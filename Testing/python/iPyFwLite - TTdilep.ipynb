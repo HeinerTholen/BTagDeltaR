{
 "metadata": {
  "name": ""
 },
 "nbformat": 3,
 "nbformat_minor": 0,
 "worksheets": [
  {
   "cells": [
    {
     "cell_type": "markdown",
     "metadata": {},
     "source": [
      "# BTagDeltaR Testing Playground Script\n",
      "## imports, variables, convenience functions, ..."
     ]
    },
    {
     "cell_type": "code",
     "collapsed": false,
     "input": [
      "import itertools\n",
      "import numpy as np\n",
      "import ROOT\n",
      "import varial\n",
      "\n",
      "from MyUtility.PythonUtil.genParticles import daughters_of_z_boson, final_b_hadrons\n",
      "from DataFormats.FWLite import Events,Handle\n",
      "path_smp = \"file:/nfs/dust/cms/user/tholenhe/samples/\""
     ],
     "language": "python",
     "metadata": {},
     "outputs": [],
     "prompt_number": 1
    },
    {
     "cell_type": "code",
     "collapsed": false,
     "input": [
      "h_genParticles = Handle(\"vector<reco::GenParticle>\")\n",
      "h_pv = Handle(\"vector<reco::Vertex>\")\n",
      "h_sv_std = Handle(\"vector<reco::SecondaryVertexTagInfo>\")\n",
      "h_sv_ivf = Handle(\"vector<reco::SecondaryVertexTagInfo>\")"
     ],
     "language": "python",
     "metadata": {},
     "outputs": [],
     "prompt_number": 2
    },
    {
     "cell_type": "code",
     "collapsed": false,
     "input": [
      "DeltaR = ROOT.Math.VectorUtil.DeltaR\n",
      "deltaR = lambda a,b: DeltaR(a.p4(), b.p4())\n",
      "def my_deltaR(a, b):\n",
      "    return (\n",
      "        (a.eta()-b.eta())**2 \n",
      "        + (float(a.phi())-float(b.phi()))**2\n",
      "    )**.5\n",
      "\n",
      "def find_min_dr_pair(particles):\n",
      "    pairs = list(itertools.combinations(particles, 2))\n",
      "    return min(pairs, key=lambda a: deltaR(*a))\n",
      "\n",
      "def get_all_vertex_pairs(tag_infos):\n",
      "    return list(\n",
      "        itertools.chain.from_iterable(\n",
      "            (\n",
      "                 (t.secondaryVertex(i), t.flightDirection(i)) \n",
      "                 for i in xrange(t.nVertexCandidates())\n",
      "            )\n",
      "            for t in tag_infos\n",
      "        )\n",
      "    )\n",
      "\n",
      "def get_close_vertex_pairs(vtx_pairs, a, b):\n",
      "    return list(\n",
      "        p for p in vtx_pairs\n",
      "        if (my_deltaR(p[1], a.p4()) < 0.1 or my_deltaR(p[1], b.p4()) < 0.1)\n",
      "    )\n",
      "\n",
      "def mkvec(root_vec):\n",
      "    return np.array([\n",
      "        root_vec.x(), \n",
      "        root_vec.y(), \n",
      "        root_vec.z()\n",
      "    ])\n",
      "\n",
      "def calc_matching_significance(primary_vertex, secondary_vertex, particle):\n",
      "    # get the difference vector of vertices\n",
      "    gpv = mkvec(particle.vertex())              # gen primary vertex\n",
      "    gsv = mkvec(particle.daughter(0).vertex())  # gen secondary vertex\n",
      "    gvec = gsv - gpv                            # gen vector\n",
      "    grho = (gvec[0]**2 + gvec[1]**2)**.5\n",
      "    \n",
      "    rpv = mkvec(primary_vertex.position())      # reco primary vertex\n",
      "    rsv = mkvec(secondary_vertex.position())    # reco secondary vertex\n",
      "    rvec = rsv - rpv                            # reco vector\n",
      "    rrho = (rvec[0]**2 + rvec[1]**2)**.5\n",
      "    \n",
      "    gvec *= rrho / grho                         # scale gen to eta-phi plane of reco\n",
      "    vec = rvec - gvec                           # reco - gen\n",
      "\n",
      "    # calculate significance^2\n",
      "    cov = secondary_vertex.covariance()\n",
      "    assert(cov.Invert())\n",
      "    np_cov = np.matrix( tuple(tuple(cov(i,j) for i in range(3)) for j in range(3) ) )\n",
      "    cov.Invert()\n",
      "    sig2 = np.dot(np.dot(vec, np_cov), vec)     # sig2 = vec_T * inv_cov * vec_T\n",
      "\n",
      "    # calculate dr(reco, gen)\n",
      "    gv = particle.vertex()\n",
      "    rv = primary_vertex.position()\n",
      "    gv.SetXYZ(*gvec)\n",
      "    rv.SetXYZ(*rvec)\n",
      "    dR = my_deltaR(gv, rv)\n",
      "    \n",
      "    return sig2[0,0]**.5, dR"
     ],
     "language": "python",
     "metadata": {},
     "outputs": [],
     "prompt_number": 3
    },
    {
     "cell_type": "markdown",
     "metadata": {},
     "source": [
      "### Open event files "
     ]
    },
    {
     "cell_type": "code",
     "collapsed": false,
     "input": [
      "events = iter(Events(\n",
      "#    path_smp + \"recoPlusSV.root\"\n",
      "    path_smp + \"TTdilep_presel.root\"\n",
      "))"
     ],
     "language": "python",
     "metadata": {},
     "outputs": [],
     "prompt_number": 4
    },
    {
     "cell_type": "markdown",
     "metadata": {},
     "source": [
      "### histograms definitions"
     ]
    },
    {
     "cell_type": "code",
     "collapsed": false,
     "input": [
      "fs = varial.analysis.fileservice()\n",
      "fs.MinDeltaR = ROOT.TH1D(\n",
      "    \"MinDeltaR\", \n",
      "    \";min #DeltaR between final B's;number of events\",\n",
      "    16, 0., 4. #0.8\n",
      ")\n",
      "fs.MatchedStdSV = ROOT.TH1D(\n",
      "    \"MatchedStdSV\", \n",
      "    \";min #DeltaR between final B's;number of events\",\n",
      "    16, 0., 4. #0.8\n",
      ")\n",
      "fs.MatchedIvfSV = ROOT.TH1D(\n",
      "    \"MatchedIvfSV\", \n",
      "    \";min #DeltaR between final B's;number of events\",\n",
      "    16, 0., 4. #0.8\n",
      ")\n",
      "fs.CovHistoIVF = ROOT.TH1D(\n",
      "    \"MatchingSignificanceDistance\",\n",
      "    \";#Delta X;number of vertices\",\n",
      "    100, 0., 100.\n",
      ")\n",
      "fs.MatchingDR = ROOT.TH1D(\n",
      "    \"MatchingDR\",\n",
      "    \";#Delta R;number of vertices\",\n",
      "    150, 0., 0.3\n",
      ")\n",
      "fs.VertexDR = ROOT.TH1D(\n",
      "    \"VertexDR\",\n",
      "    \";#Delta R;number of vertices\",\n",
      "    150, 0., 0.3\n",
      ")"
     ],
     "language": "python",
     "metadata": {},
     "outputs": [],
     "prompt_number": 7
    },
    {
     "cell_type": "markdown",
     "metadata": {},
     "source": [
      "## Eventloop"
     ]
    },
    {
     "cell_type": "code",
     "collapsed": false,
     "input": [
      "for event in events:\n",
      "\n",
      "    event.getByLabel(\"genParticles\", h_genParticles)\n",
      "    genParticles = h_genParticles.product()\n",
      "    \n",
      "    fin_b = final_b_hadrons(genParticles)\n",
      "    a, b = find_min_dr_pair(fin_b)\n",
      "    dR = deltaR(a, b)\n",
      "    fs.MinDeltaR.Fill(dR)\n",
      "    \n",
      "    #################################### two close b's\n",
      "    if True: #dR < 0.7: \n",
      "\n",
      "        event.getByLabel(\"MyAk7PFSecondaryVertexTagInfos\", h_sv_std)\n",
      "        event.getByLabel(\"MyAk7PFInclusiveSecondaryVertexFinderTagInfos\", h_sv_ivf)\n",
      "\n",
      "        # get flight direction from all vertices\n",
      "        vtx_pair_std = get_all_vertex_pairs(h_sv_std.product())\n",
      "        vtx_pair_ivf = get_all_vertex_pairs(h_sv_ivf.product())\n",
      "\n",
      "        # find matching flight directions\n",
      "        close_vtx_pair_std = get_close_vertex_pairs(vtx_pair_std, a, b)\n",
      "        close_vtx_pair_ivf = get_close_vertex_pairs(vtx_pair_ivf, a, b)\n",
      "            \n",
      "        # fill histograms for 2 or more vertices\n",
      "        if len(close_vtx_pair_std) > 1:\n",
      "            fs.MatchedStdSV.Fill(dR)\n",
      "        if len(close_vtx_pair_ivf) > 1:\n",
      "            fs.MatchedIvfSV.Fill(dR)\n",
      "\n",
      "            # get single close flight dir\n",
      "            an_ivf_vtx = close_vtx_pair_ivf[0]\n",
      "            if dR > 0.2:  # make sure not to match to the other one\n",
      "                event.getByLabel(\"offlinePrimaryVertices\", h_pv)\n",
      "                pvtx = h_pv.product()[0]\n",
      "                \n",
      "                if my_deltaR(an_ivf_vtx[1], a.p4()) < 0.1:\n",
      "                    sig, dr = calc_matching_significance(pvtx, an_ivf_vtx[0], a)\n",
      "                    fs.CovHistoIVF.Fill(sig)\n",
      "                    fs.VertexDR.Fill(dr)\n",
      "                    fs.MatchingDR.Fill(my_deltaR(an_ivf_vtx[1], a.p4()))\n",
      "                else:\n",
      "                    sig, dr = calc_matching_significance(pvtx, an_ivf_vtx[0], b)\n",
      "                    fs.CovHistoIVF.Fill(sig)\n",
      "                    fs.VertexDR.Fill(dr)\n",
      "                    fs.MatchingDR.Fill(my_deltaR(an_ivf_vtx[1], b.p4()))                    \n"
     ],
     "language": "python",
     "metadata": {},
     "outputs": [
      {
       "output_type": "stream",
       "stream": "stderr",
       "text": [
        "TClassTable::Add:0: RuntimeWarning: class ROOT::Math::RowOffsets<2> already in TClassTable\n",
        "TClassTable::Add:0: RuntimeWarning: class ROOT::Math::RowOffsets<3> already in TClassTable\n",
        "TClassTable::Add:0: RuntimeWarning: class ROOT::Math::RowOffsets<4> already in TClassTable\n",
        "TClassTable::Add:0: RuntimeWarning: class ROOT::Math::RowOffsets<5> already in TClassTable\n",
        "TClassTable::Add:0: RuntimeWarning: class ROOT::Math::RowOffsets<6> already in TClassTable\n",
        "TClassTable::Add:0: RuntimeWarning: class ROOT::Math::RowOffsets<7> already in TClassTable\n",
        "TClassTable::Add:0: RuntimeWarning: class ROOT::Math::SVector<double,3> already in TClassTable\n",
        "TClassTable::Add:0: RuntimeWarning: class ROOT::Math::SVector<double,2> already in TClassTable\n",
        "TClassTable::Add:0: RuntimeWarning: class ROOT::Math::SVector<double,6> already in TClassTable\n",
        "TClassTable::Add:0: RuntimeWarning: class ROOT::Math::SVector<double,4> already in TClassTable\n",
        "TClassTable::Add:0: RuntimeWarning: class ROOT::Math::SVector<double,5> already in TClassTable\n",
        "TClassTable::Add:0: RuntimeWarning: class ROOT::Math::MatRepSym<double,2> already in TClassTable\n",
        "TClassTable::Add:0: RuntimeWarning: class ROOT::Math::SMatrix<double,2,2,ROOT::Math::MatRepSym<double,2> > already in TClassTable\n",
        "TClassTable::Add:0: RuntimeWarning: class ROOT::Math::MatRepSym<double,3> already in TClassTable\n",
        "TClassTable::Add:0: RuntimeWarning: class ROOT::Math::SMatrix<double,3,3,ROOT::Math::MatRepSym<double,3> > already in TClassTable\n",
        "TClassTable::Add:0: RuntimeWarning: class ROOT::Math::MatRepSym<double,4> already in TClassTable\n",
        "TClassTable::Add:0: RuntimeWarning: class ROOT::Math::SMatrix<double,4,4,ROOT::Math::MatRepSym<double,4> > already in TClassTable\n",
        "TClassTable::Add:0: RuntimeWarning: class ROOT::Math::MatRepSym<double,5> already in TClassTable\n",
        "TClassTable::Add:0: RuntimeWarning: class ROOT::Math::SMatrix<double,5,5,ROOT::Math::MatRepSym<double,5> > already in TClassTable\n",
        "TClassTable::Add:0: RuntimeWarning: class ROOT::Math::MatRepSym<double,6> already in TClassTable\n",
        "TClassTable::Add:0: RuntimeWarning: class ROOT::Math::SMatrix<double,6,6,ROOT::Math::MatRepSym<double,6> > already in TClassTable\n",
        "TClassTable::Add:0: RuntimeWarning: class ROOT::Math::MatRepSym<double,7> already in TClassTable\n",
        "TClassTable::Add:0: RuntimeWarning: class ROOT::Math::SMatrix<double,7,7,ROOT::Math::MatRepSym<double,7> > already in TClassTable\n",
        "TClassTable::Add:0: RuntimeWarning: class ROOT::Math::SVector<float,3> already in TClassTable\n",
        "TClassTable::Add:0: RuntimeWarning: class ROOT::Math::SVector<float,2> already in TClassTable\n",
        "TClassTable::Add:0: RuntimeWarning: class ROOT::Math::SVector<float,6> already in TClassTable\n",
        "TClassTable::Add:0: RuntimeWarning: class ROOT::Math::SVector<float,4> already in TClassTable\n",
        "TClassTable::Add:0: RuntimeWarning: class ROOT::Math::SVector<float,5> already in TClassTable\n",
        "TClassTable::Add:0: RuntimeWarning: class ROOT::Math::SVector<float,7> already in TClassTable\n",
        "TClassTable::Add:0: RuntimeWarning: class ROOT::Math::MatRepSym<float,2> already in TClassTable\n",
        "TClassTable::Add:0: RuntimeWarning: class ROOT::Math::SMatrix<float,2,2,ROOT::Math::MatRepSym<float,2> > already in TClassTable\n",
        "TClassTable::Add:0: RuntimeWarning: class ROOT::Math::MatRepSym<float,3> already in TClassTable\n",
        "TClassTable::Add:0: RuntimeWarning: class ROOT::Math::SMatrix<float,3,3,ROOT::Math::MatRepSym<float,3> > already in TClassTable\n",
        "TClassTable::Add:0: RuntimeWarning: class ROOT::Math::MatRepSym<float,4> already in TClassTable\n",
        "TClassTable::Add:0: RuntimeWarning: class ROOT::Math::SMatrix<float,4,4,ROOT::Math::MatRepSym<float,4> > already in TClassTable\n",
        "TClassTable::Add:0: RuntimeWarning: class ROOT::Math::MatRepSym<float,5> already in TClassTable\n",
        "TClassTable::Add:0: RuntimeWarning: class ROOT::Math::SMatrix<float,5,5,ROOT::Math::MatRepSym<float,5> > already in TClassTable\n"
       ]
      },
      {
       "output_type": "stream",
       "stream": "stderr",
       "text": [
        "TClassTable::Add:0: RuntimeWarning: class ROOT::Math::MatRepSym<float,6> already in TClassTable\n",
        "TClassTable::Add:0: RuntimeWarning: class ROOT::Math::SMatrix<float,6,6,ROOT::Math::MatRepSym<float,6> > already in TClassTable\n",
        "TClassTable::Add:0: RuntimeWarning: class ROOT::Math::MatRepSym<float,7> already in TClassTable\n",
        "TClassTable::Add:0: RuntimeWarning: class ROOT::Math::SMatrix<float,7,7,ROOT::Math::MatRepSym<float,7> > already in TClassTable\n"
       ]
      }
     ],
     "prompt_number": 8
    },
    {
     "cell_type": "markdown",
     "metadata": {},
     "source": [
      "# Plotting ..."
     ]
    },
    {
     "cell_type": "code",
     "collapsed": false,
     "input": [
      "from rootpy.plotting import Hist\n",
      "from ROOT import TCanvas\n",
      "from ROOT import TGraphAsymmErrors\n",
      "import random\n",
      "def mkgrph(sub, total):\n",
      "    n = str(random.randint(0,1e20))\n",
      "    c = TCanvas(n, n)\n",
      "    g = TGraphAsymmErrors(sub, total)\n",
      "    g.Draw(\"AP\")\n",
      "    g.GetXaxis().SetTitle(sub.GetXaxis().GetTitle())\n",
      "    g.GetYaxis().SetTitle(sub.GetYaxis().GetTitle())\n",
      "    c.Update()\n",
      "    return c"
     ],
     "language": "python",
     "metadata": {},
     "outputs": [],
     "prompt_number": 9
    },
    {
     "cell_type": "markdown",
     "metadata": {},
     "source": [
      "### Min dR between generator B's"
     ]
    },
    {
     "cell_type": "code",
     "collapsed": false,
     "input": [
      "fs.MinDeltaR.Sumw2()\n",
      "int_tot, int_05 = fs.MinDeltaR.Integral(), fs.MinDeltaR.Integral(1,2)\n",
      "print int_tot\n",
      "print int_05\n",
      "print int_05 / int_tot\n",
      "fs.MinDeltaR"
     ],
     "language": "python",
     "metadata": {},
     "outputs": [
      {
       "output_type": "stream",
       "stream": "stdout",
       "text": [
        "649.0\n",
        "16.0\n",
        "0.0246533127889\n"
       ]
      },
      {
       "metadata": {},
       "output_type": "pyout",
       "png": "[encoded data removed]",
       "prompt_number": 10,
       "text": [
        "<ROOT.TH1D object (\"MinDeltaR\") at 0x72fb050>"
       ]
      }
     ],
     "prompt_number": 10
    },
    {
     "cell_type": "markdown",
     "metadata": {},
     "source": [
      "### Fraction where >= 2 reconstructed _standard_ SV's are matched"
     ]
    },
    {
     "cell_type": "code",
     "collapsed": false,
     "input": [
      "mkgrph(fs.MatchedStdSV, fs.MinDeltaR)"
     ],
     "language": "python",
     "metadata": {},
     "outputs": [
      {
       "metadata": {},
       "output_type": "pyout",
       "png": "[encoded data removed]",
       "prompt_number": 11,
       "text": [
        "<ROOT.TCanvas object (\"59912685927920132074\") at 0xcd3b9b0>"
       ]
      }
     ],
     "prompt_number": 11
    },
    {
     "cell_type": "markdown",
     "metadata": {},
     "source": [
      "### Fraction where >= 2 reconstructed _ivf_ SV's are matched"
     ]
    },
    {
     "cell_type": "code",
     "collapsed": false,
     "input": [
      "mkgrph(fs.MatchedIvfSV, fs.MinDeltaR)"
     ],
     "language": "python",
     "metadata": {},
     "outputs": [
      {
       "metadata": {},
       "output_type": "pyout",
       "png": "[encoded data removed]",
       "prompt_number": 12,
       "text": [
        "<ROOT.TCanvas object (\"92488781903904100298\") at 0xd311800>"
       ]
      }
     ],
     "prompt_number": 12
    },
    {
     "cell_type": "markdown",
     "metadata": {},
     "source": [
      "### Matching significance"
     ]
    },
    {
     "cell_type": "code",
     "collapsed": false,
     "input": [
      "fs.CovHistoIVF"
     ],
     "language": "python",
     "metadata": {},
     "outputs": [
      {
       "metadata": {},
       "output_type": "pyout",
       "png": "[encoded data removed]",
       "prompt_number": 13,
       "text": [
        "<ROOT.TH1D object (\"MatchingSignificanceDistance\") at 0x72de780>"
       ]
      }
     ],
     "prompt_number": 13
    },
    {
     "cell_type": "code",
     "collapsed": false,
     "input": [
      "fs.MatchingDR"
     ],
     "language": "python",
     "metadata": {},
     "outputs": [
      {
       "metadata": {},
       "output_type": "pyout",
       "png": "[encoded data removed]",
       "prompt_number": 14,
       "text": [
        "<ROOT.TH1D object (\"MatchingDR\") at 0x72def30>"
       ]
      }
     ],
     "prompt_number": 14
    },
    {
     "cell_type": "code",
     "collapsed": false,
     "input": [
      "fs.VertexDR"
     ],
     "language": "python",
     "metadata": {},
     "outputs": [
      {
       "metadata": {},
       "output_type": "pyout",
       "png": "[encoded data removed]",
       "prompt_number": 15,
       "text": [
        "<ROOT.TH1D object (\"VertexDR\") at 0x72df830>"
       ]
      }
     ],
     "prompt_number": 15
    },
    {
     "cell_type": "markdown",
     "metadata": {},
     "source": [
      "# WARNING!\n",
      "Death rays 'n' stuff ..."
     ]
    },
    {
     "cell_type": "code",
     "collapsed": false,
     "input": [
      "events = iter(Events(path_smp + \"TTdilep/DiBosonWZ_8.root\"))"
     ],
     "language": "python",
     "metadata": {},
     "outputs": [],
     "prompt_number": 4
    },
    {
     "cell_type": "code",
     "collapsed": false,
     "input": [
      "event = next(events)\n",
      "h_test = Handle(\"vector<reco::MergedVertex>\")\n",
      "event.getByLabel(\"bToCharmDecayVertexMerged\", h_test)\n",
      "sv_ivf = h_test.product()"
     ],
     "language": "python",
     "metadata": {},
     "outputs": [],
     "prompt_number": 5
    },
    {
     "cell_type": "code",
     "collapsed": false,
     "input": [
      "h_genParticles = Handle(\"vector<reco::GenParticle>\")\n",
      "event.getByLabel(\"genParticles\", h_genParticles)\n",
      "genParticles = h_genParticles.product()\n",
      "for gp in genParticles:\n",
      "    pass"
     ],
     "language": "python",
     "metadata": {},
     "outputs": [],
     "prompt_number": 75
    },
    {
     "cell_type": "code",
     "collapsed": false,
     "input": [
      "len(sv_ivf)"
     ],
     "language": "python",
     "metadata": {},
     "outputs": [
      {
       "metadata": {},
       "output_type": "pyout",
       "prompt_number": 70,
       "text": [
        "2"
       ]
      }
     ],
     "prompt_number": 70
    },
    {
     "cell_type": "code",
     "collapsed": false,
     "input": [
      "sv = sv_ivf[0]\n",
      "sv.numberOfParents()"
     ],
     "language": "python",
     "metadata": {},
     "outputs": [
      {
       "metadata": {},
       "output_type": "pyout",
       "prompt_number": 25,
       "text": [
        "0L"
       ]
      }
     ],
     "prompt_number": 25
    },
    {
     "cell_type": "code",
     "collapsed": false,
     "input": [
      "sv.originalMass(0)"
     ],
     "language": "python",
     "metadata": {},
     "outputs": [
      {
       "metadata": {},
       "output_type": "pyout",
       "prompt_number": 26,
       "text": [
        "2.3605436327444003"
       ]
      }
     ],
     "prompt_number": 26
    },
    {
     "cell_type": "code",
     "collapsed": false,
     "input": [
      "cov = sv.covariance()\n",
      "pos = sv.position()"
     ],
     "language": "python",
     "metadata": {},
     "outputs": [],
     "prompt_number": 58
    },
    {
     "cell_type": "code",
     "collapsed": false,
     "input": [
      "for i in range(3):\n",
      "    print list(cov(i, j) for j in range(3))"
     ],
     "language": "python",
     "metadata": {},
     "outputs": [
      {
       "output_type": "stream",
       "stream": "stdout",
       "text": [
        "[209640.77501361308, 61203.620512941947, -12038.912855527167]\n",
        "[61203.620512941947, 27427.30174735895, 18079.422944221456]\n",
        "[-12038.912855527167, 18079.422944221456, 54254.894870876706]\n"
       ]
      }
     ],
     "prompt_number": 60
    },
    {
     "cell_type": "code",
     "collapsed": false,
     "input": [
      "50000 * 0.024\n",
      "\n"
     ],
     "language": "python",
     "metadata": {},
     "outputs": [
      {
       "metadata": {},
       "output_type": "pyout",
       "prompt_number": 28,
       "text": [
        "1200.0"
       ]
      }
     ],
     "prompt_number": 28
    },
    {
     "cell_type": "code",
     "collapsed": false,
     "input": [
      "event = next(events)\n",
      "event.getByLabel(\"offlinePrimaryVertices\", h_pv)\n",
      "pvtx = h_pv.product()\n",
      "p0 = pvtx[0]"
     ],
     "language": "python",
     "metadata": {},
     "outputs": [],
     "prompt_number": 21
    },
    {
     "cell_type": "code",
     "collapsed": false,
     "input": [
      "pos = p0.position()"
     ],
     "language": "python",
     "metadata": {},
     "outputs": [],
     "prompt_number": 22
    },
    {
     "cell_type": "code",
     "collapsed": false,
     "input": [
      "pos.SetXYZ(1,2,3)"
     ],
     "language": "python",
     "metadata": {},
     "outputs": [
      {
       "metadata": {},
       "output_type": "pyout",
       "prompt_number": 24,
       "text": [
        "<ROOT.ROOT::Math::PositionVector3D<ROOT::Math::Cartesian3D<double>,ROOT::Math::DefaultCoordinateSystemTag> object at 0xdc6b2d8>"
       ]
      }
     ],
     "prompt_number": 24
    },
    {
     "cell_type": "code",
     "collapsed": false,
     "input": [
      "a = np.array((1,2,3))\n",
      "a *= 3\n",
      "a"
     ],
     "language": "python",
     "metadata": {},
     "outputs": [
      {
       "metadata": {},
       "output_type": "pyout",
       "prompt_number": 16,
       "text": [
        "array([3, 6, 9])"
       ]
      }
     ],
     "prompt_number": 16
    },
    {
     "cell_type": "code",
     "collapsed": false,
     "input": [
      "h_test = Handle(\"vector<reco::MergedVertex>\")"
     ],
     "language": "python",
     "metadata": {},
     "outputs": [],
     "prompt_number": 7
    },
    {
     "cell_type": "code",
     "collapsed": false,
     "input": [
      "h_test.isValid()"
     ],
     "language": "python",
     "metadata": {},
     "outputs": [
      {
       "metadata": {},
       "output_type": "pyout",
       "prompt_number": 14,
       "text": [
        "True"
       ]
      }
     ],
     "prompt_number": 14
    },
    {
     "cell_type": "code",
     "collapsed": false,
     "input": [
      "event.getByLabel(\"bToCharmDecayVertexMerged\", h_test)"
     ],
     "language": "python",
     "metadata": {},
     "outputs": [
      {
       "metadata": {},
       "output_type": "pyout",
       "prompt_number": 13,
       "text": [
        "True"
       ]
      }
     ],
     "prompt_number": 13
    },
    {
     "cell_type": "code",
     "collapsed": false,
     "input": [
      "event = next(events)"
     ],
     "language": "python",
     "metadata": {},
     "outputs": [],
     "prompt_number": 11
    },
    {
     "cell_type": "code",
     "collapsed": false,
     "input": [],
     "language": "python",
     "metadata": {},
     "outputs": []
    }
   ],
   "metadata": {}
  }
 ]
}