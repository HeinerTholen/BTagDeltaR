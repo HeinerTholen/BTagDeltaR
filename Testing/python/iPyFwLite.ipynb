{
 "metadata": {
  "name": ""
 },
 "nbformat": 3,
 "nbformat_minor": 0,
 "worksheets": [
  {
   "cells": [
    {
     "cell_type": "code",
     "collapsed": false,
     "input": [
      "import ROOT\n",
      "from MyUtility.PythonUtil.genParticles import daughters_of_z_boson, final_b_mesons\n",
      "from DataFormats.FWLite import Events,Handle\n",
      "\n",
      "events = iter(Events(\n",
      "\"file:/afs/desy.de/user/t/tholenhe/xxl-af-cms/samples/Zbb_batch1/ZbbhadronicAODSIM1.root\"\n",
      "))"
     ],
     "language": "python",
     "metadata": {},
     "outputs": [],
     "prompt_number": 16
    },
    {
     "cell_type": "code",
     "collapsed": false,
     "input": [
      "h_genParticles = Handle(\"vector<reco::GenParticle>\")\n",
      "h_jets = Handle(\"vector<reco::PFJet>\")"
     ],
     "language": "python",
     "metadata": {},
     "outputs": [],
     "prompt_number": 17
    },
    {
     "cell_type": "code",
     "collapsed": false,
     "input": [
      "deltaR = lambda a,b: ROOT.Math.VectorUtil.DeltaR(a.p4(), b.p4())\n",
      "from itertools import combinations\n",
      "\n",
      "def find_min_dr_pair(particles):\n",
      "    pairs = list(combinations(particles, 2))\n",
      "    return min(pairs, key=lambda a: deltaR(*a))\n"
     ],
     "language": "python",
     "metadata": {},
     "outputs": [],
     "prompt_number": 3
    },
    {
     "cell_type": "code",
     "collapsed": false,
     "input": [
      "from varial import diskio\n",
      "fs = diskio.fileservice()\n",
      "fs.MinDeltaR = ROOT.TH1D(\n",
      "    \"MinDeltaR\", \n",
      "    \";min #DeltaR between final B's;number of events\",\n",
      "    50, 0., 5.\n",
      ")\n",
      "fs.MinDeltaRSameJet = ROOT.TH1D(\n",
      "    \"MinDeltaRSameJet\", \n",
      "    \";min #DeltaR between final B's;number of events\",\n",
      "    50, 0., 5.\n",
      ")"
     ],
     "language": "python",
     "metadata": {},
     "outputs": [],
     "prompt_number": 4
    },
    {
     "cell_type": "code",
     "collapsed": false,
     "input": [
      "for event in events:\n",
      "\n",
      "    event.getByLabel(\"genParticles\", h_genParticles)\n",
      "    genParticles = h_genParticles.product()\n",
      "    \n",
      "    fin_b = final_b_mesons(genParticles)\n",
      "    m = find_min_dr_pair(fin_b)\n",
      "    m_dR = deltaR(*m)\n",
      "    fs.MinDeltaR.Fill(m_dR)\n",
      "    \n",
      "    if m_dR < 0.5:\n",
      "        event.getByLabel(\"ak5PFJets\", h_jets)\n",
      "        jets = h_jets.product()\n",
      "        close_jets = list(\n",
      "            j for j in jets\n",
      "            if deltaR(j, m[0]) < 0.5 and deltaR(j, m[1]) < 0.5\n",
      "        )\n",
      "        if len(close_jets) == 1:\n",
      "            fs.MinDeltaRSameJet.Fill(m_dR)\n"
     ],
     "language": "python",
     "metadata": {},
     "outputs": [],
     "prompt_number": 5
    },
    {
     "cell_type": "code",
     "collapsed": false,
     "input": [
      "fs.MinDeltaRSameJetNorm = fs.MinDeltaRSameJet.Clone()\n",
      "fs.MinDeltaRSameJetNorm.Divide(fs.MinDeltaR)"
     ],
     "language": "python",
     "metadata": {},
     "outputs": [],
     "prompt_number": 6
    },
    {
     "cell_type": "code",
     "collapsed": false,
     "input": [
      "fs.MinDeltaRSameJetNorm.Draw()\n",
      "c2 = ROOT.TCanvas()\n",
      "fs.MinDeltaR.Draw()"
     ],
     "language": "python",
     "metadata": {},
     "outputs": [],
     "prompt_number": 8
    },
    {
     "cell_type": "code",
     "collapsed": false,
     "input": [],
     "language": "python",
     "metadata": {},
     "outputs": [],
     "prompt_number": 8
    },
    {
     "cell_type": "code",
     "collapsed": false,
     "input": [
      "f = ROOT.TFile.Open(\"fileservice.root\", \"RECREATE\")\n",
      "f.cd()\n",
      "diskio._write_wrapper_objs(fs, f)\n",
      "f.Close()"
     ],
     "language": "python",
     "metadata": {},
     "outputs": [],
     "prompt_number": 9
    },
    {
     "cell_type": "code",
     "collapsed": false,
     "input": [],
     "language": "python",
     "metadata": {},
     "outputs": [],
     "prompt_number": 10
    },
    {
     "cell_type": "code",
     "collapsed": false,
     "input": [
      "event = next(events)\n",
      "event.getByLabel(\"ak5PFJets\", h_jets)\n",
      "jets = h_jets.product()\n",
      "j = jets[0]"
     ],
     "language": "python",
     "metadata": {},
     "outputs": [],
     "prompt_number": 13
    },
    {
     "cell_type": "code",
     "collapsed": false,
     "input": [],
     "language": "python",
     "metadata": {},
     "outputs": []
    }
   ],
   "metadata": {}
  }
 ]
}