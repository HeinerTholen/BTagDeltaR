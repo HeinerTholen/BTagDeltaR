{
 "metadata": {
  "name": ""
 },
 "nbformat": 3,
 "nbformat_minor": 0,
 "worksheets": [
  {
   "cells": [
    {
     "cell_type": "markdown",
     "metadata": {},
     "source": [
      "# BTagDeltaR Testing Playground Script\n",
      "## imports, variables, functions, ..."
     ]
    },
    {
     "cell_type": "code",
     "collapsed": false,
     "input": [
      "import ROOT\n",
      "from MyUtility.PythonUtil.genParticles import daughters_of_z_boson, final_b_mesons\n",
      "from DataFormats.FWLite import Events,Handle\n",
      "\n",
      "path_smp = \"file:/afs/desy.de/user/t/tholenhe/xxl-af-cms/samples/\"\n",
      "events = iter(Events(\n",
      "    #path_smp + \"Zbb_batch1/ZbbhadronicAODSIM1.root\"\n",
      "    path_smp + \"recoPlusSV.root\"\n",
      "))"
     ],
     "language": "python",
     "metadata": {},
     "outputs": [],
     "prompt_number": 1
    },
    {
     "cell_type": "code",
     "collapsed": false,
     "input": [
      "h_genParticles = Handle(\"vector<reco::GenParticle>\")\n",
      "h_jets = Handle(\"vector<reco::PFJet>\")\n",
      "jet_label = \"ak7PFJets\"\n",
      "jet_radius = 0.7\n",
      "\n",
      "h_sv_std = Handle(\"vector<reco::SecondaryVertexTagInfo>\")\n",
      "h_sv_ivf = Handle(\"vector<reco::SecondaryVertexTagInfo>\")"
     ],
     "language": "python",
     "metadata": {},
     "outputs": [],
     "prompt_number": 2
    },
    {
     "cell_type": "code",
     "collapsed": false,
     "input": [
      "deltaR = ROOT.Math.VectorUtil.DeltaR\n",
      "deltaR = lambda a,b: deltaR(a.p4(), b.p4())\n",
      "from itertools import combinations\n",
      "\n",
      "def find_min_dr_pair(particles):\n",
      "    pairs = list(combinations(particles, 2))\n",
      "    return min(pairs, key=lambda a: deltaR(*a))\n"
     ],
     "language": "python",
     "metadata": {},
     "outputs": [],
     "prompt_number": 3
    },
    {
     "cell_type": "code",
     "collapsed": false,
     "input": [
      "from varial import diskio\n",
      "fs = diskio.fileservice()\n",
      "fs.MinDeltaR = ROOT.TH1D(\n",
      "    \"MinDeltaR\", \n",
      "    \";min #DeltaR between final B's;number of events\",\n",
      "    50, 0., 5.\n",
      ")\n",
      "fs.MinDeltaRSameJet = ROOT.TH1D(\n",
      "    \"MinDeltaRSameJet\", \n",
      "    \";min #DeltaR between final B's;number of events\",\n",
      "    50, 0., 5.\n",
      ")\n",
      "fs.MinDeltaR.Sumw2()\n",
      "fs.MinDeltaRSameJet.Sumw2()"
     ],
     "language": "python",
     "metadata": {},
     "outputs": [],
     "prompt_number": 4
    },
    {
     "cell_type": "markdown",
     "metadata": {},
     "source": [
      "## eventloop"
     ]
    },
    {
     "cell_type": "code",
     "collapsed": false,
     "input": [
      "for event in events:\n",
      "\n",
      "    event.getByLabel(\"genParticles\", h_genParticles)\n",
      "    genParticles = h_genParticles.product()\n",
      "    \n",
      "    fin_b = final_b_mesons(genParticles)\n",
      "    a, b = find_min_dr_pair(fin_b)\n",
      "    dR = deltaR(a, b)\n",
      "    fs.MinDeltaR.Fill(dR)\n",
      "    \n",
      "    #################################### two close b's\n",
      "    if dR < jet_radius: \n",
      "        event.getByLabel(jet_label, h_jets)\n",
      "        jets = h_jets.product()\n",
      "        close_jets = list(\n",
      "            j for j in jets\n",
      "            if deltaR(j, a) < jet_radius and deltaR(j, b) < jet_radius\n",
      "        )\n",
      "        \n",
      "        ################################ one candidate jet\n",
      "        if len(close_jets) == 1: \n",
      "            jet = close_jets[0]\n",
      "            fs.MinDeltaRSameJet.Fill(dR)\n",
      "            \n",
      "            event.getByLabel(\"MyAk7PFSecondaryVertexTagInfos\", h_sv_std)\n",
      "            event.getByLabel(\"MyAk7PFInclusiveSecondaryVertexFinderTagInfos\", h_sv_ivf)\n",
      "            sv_std = h_sv_std.product()\n",
      "            sv_ivf = h_sv_ivf.product()\n"
     ],
     "language": "python",
     "metadata": {},
     "outputs": [],
     "prompt_number": 6
    },
    {
     "cell_type": "markdown",
     "metadata": {},
     "source": [
      "## plotting ..."
     ]
    },
    {
     "cell_type": "code",
     "collapsed": false,
     "input": [
      "fs.MinDeltaRSameJetNorm = fs.MinDeltaRSameJet.Clone()\n",
      "fs.MinDeltaRSameJetNorm.Divide(fs.MinDeltaR)"
     ],
     "language": "python",
     "metadata": {},
     "outputs": [],
     "prompt_number": 7
    },
    {
     "cell_type": "code",
     "collapsed": false,
     "input": [
      "from rootpy.plotting import Hist\n",
      "fs.MinDeltaR"
     ],
     "language": "python",
     "metadata": {},
     "outputs": [
      {
       "metadata": {},
       "output_type": "pyout",
       "png": "[encoded data removed]",
       "prompt_number": 11,
       "text": [
        "<ROOT.TH1D object (\"MinDeltaR\") at 0x57c9eb0>"
       ]
      }
     ],
     "prompt_number": 11
    },
    {
     "cell_type": "code",
     "collapsed": false,
     "input": [
      "fs.MinDeltaRSameJetNorm"
     ],
     "language": "python",
     "metadata": {},
     "outputs": [
      {
       "metadata": {},
       "output_type": "pyout",
       "png": "[encoded data removed]",
       "prompt_number": 12,
       "text": [
        "<ROOT.TH1D object (\"MinDeltaRSameJet\") at 0x661a680>"
       ]
      }
     ],
     "prompt_number": 12
    },
    {
     "cell_type": "code",
     "collapsed": false,
     "input": [],
     "language": "python",
     "metadata": {},
     "outputs": [],
     "prompt_number": 8
    },
    {
     "cell_type": "code",
     "collapsed": false,
     "input": [
      "f = ROOT.TFile.Open(\"fileservice.root\", \"RECREATE\")\n",
      "f.cd()\n",
      "diskio._write_wrapper_objs(fs, f)\n",
      "f.Close()"
     ],
     "language": "python",
     "metadata": {},
     "outputs": [],
     "prompt_number": 9
    },
    {
     "cell_type": "code",
     "collapsed": false,
     "input": [],
     "language": "python",
     "metadata": {},
     "outputs": [],
     "prompt_number": 10
    },
    {
     "cell_type": "code",
     "collapsed": false,
     "input": [
      "event = next(events)\n",
      "event.getByLabel(\"MyAk7PFInclusiveSecondaryVertexFinderTagInfos\", h_sv_ivf)\n",
      "sv_ivf = h_sv_ivf.product()"
     ],
     "language": "python",
     "metadata": {},
     "outputs": [],
     "prompt_number": 4
    },
    {
     "cell_type": "code",
     "collapsed": false,
     "input": [
      "sv = sv_ivf[3]\n",
      "print sv.nVertexCandidates()\n",
      "vtx = sv.secondaryVertex(0)\n",
      "vec = sv.flightDirection(4)\n",
      "print vec.x()\n",
      "print vec.y()\n",
      "print vec.z()"
     ],
     "language": "python",
     "metadata": {},
     "outputs": [
      {
       "output_type": "stream",
       "stream": "stdout",
       "text": [
        "1\n",
        "0.225957214832\n",
        "0.0\n",
        "1.90369530803e-36\n"
       ]
      }
     ],
     "prompt_number": 40
    },
    {
     "cell_type": "code",
     "collapsed": false,
     "input": [],
     "language": "python",
     "metadata": {},
     "outputs": []
    }
   ],
   "metadata": {}
  }
 ]
}