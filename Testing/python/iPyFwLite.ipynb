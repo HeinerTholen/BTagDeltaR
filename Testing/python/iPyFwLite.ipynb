{
 "metadata": {
  "name": ""
 },
 "nbformat": 3,
 "nbformat_minor": 0,
 "worksheets": [
  {
   "cells": [
    {
     "cell_type": "markdown",
     "metadata": {},
     "source": [
      "# BTagDeltaR Testing Playground Script\n",
      "## imports, variables, functions, ..."
     ]
    },
    {
     "cell_type": "code",
     "collapsed": false,
     "input": [
      "import ROOT\n",
      "import itertools\n",
      "from MyUtility.PythonUtil.genParticles import daughters_of_z_boson, final_b_mesons\n",
      "from DataFormats.FWLite import Events,Handle\n",
      "path_smp = \"file:/nfs/dust/cms/user/tholenhe/samples/\""
     ],
     "language": "python",
     "metadata": {},
     "outputs": [],
     "prompt_number": 17
    },
    {
     "cell_type": "code",
     "collapsed": false,
     "input": [
      "h_genParticles = Handle(\"vector<reco::GenParticle>\")\n",
      "h_jets = Handle(\"vector<reco::PFJet>\")\n",
      "jet_label = \"ak7PFJets\"\n",
      "jet_radius = 0.7\n",
      "\n",
      "h_sv_std = Handle(\"vector<reco::SecondaryVertexTagInfo>\")\n",
      "h_sv_ivf = Handle(\"vector<reco::SecondaryVertexTagInfo>\")"
     ],
     "language": "python",
     "metadata": {},
     "outputs": [],
     "prompt_number": 18
    },
    {
     "cell_type": "code",
     "collapsed": false,
     "input": [
      "DeltaR = ROOT.Math.VectorUtil.DeltaR\n",
      "deltaR = lambda a,b: DeltaR(a.p4(), b.p4())\n",
      "def my_deltaR(a, b):\n",
      "    return (\n",
      "        (a.eta()-b.eta())**2 \n",
      "        + (float(a.phi())-float(b.phi()))**2\n",
      "    )**.5\n",
      "\n",
      "def find_min_dr_pair(particles):\n",
      "    pairs = list(itertools.combinations(particles, 2))\n",
      "    return min(pairs, key=lambda a: deltaR(*a))\n"
     ],
     "language": "python",
     "metadata": {},
     "outputs": [],
     "prompt_number": 19
    },
    {
     "cell_type": "markdown",
     "metadata": {},
     "source": [
      "### Open event files "
     ]
    },
    {
     "cell_type": "code",
     "collapsed": false,
     "input": [
      "events = iter(Events(\n",
      "    path_smp + \"recoPlusSV.root\"\n",
      "))"
     ],
     "language": "python",
     "metadata": {},
     "outputs": [],
     "prompt_number": 20
    },
    {
     "cell_type": "markdown",
     "metadata": {},
     "source": [
      "### histograms definitions"
     ]
    },
    {
     "cell_type": "code",
     "collapsed": false,
     "input": [
      "from varial import diskio\n",
      "fs = diskio.fileservice()\n",
      "fs.MinDeltaR = ROOT.TH1D(\n",
      "    \"MinDeltaR\", \n",
      "    \";min #DeltaR between final B's;number of events\",\n",
      "    50, 0., 2.5\n",
      ")\n",
      "fs.MinDeltaRSameJet = ROOT.TH1D(\n",
      "    \"MinDeltaRSameJet\", \n",
      "    \";min #DeltaR between final B's;number of events\",\n",
      "    50, 0., 2.5\n",
      ")\n",
      "fs.JetWithDoubleStdSV = ROOT.TH1D(\n",
      "    \"JetWithDoubleStdSV\", \n",
      "    \";min #DeltaR between final B's;number of events\",\n",
      "    50, 0., 2.5\n",
      ")\n",
      "fs.JetWithDoubleIvfSV = ROOT.TH1D(\n",
      "    \"JetWithDoubleIvfSV\", \n",
      "    \";min #DeltaR between final B's;number of events\",\n",
      "    50, 0., 2.5\n",
      ")\n",
      "\n",
      "fs.FirstBinEta = ROOT.TH1D(\n",
      "    \"FirstBinEta\", \n",
      "    \";#eta of final B pair;number of events\",\n",
      "    100, - 5., 5.\n",
      ")\n",
      "fs.FirstBinJetCount = ROOT.TH1D(\n",
      "    \"FirstBinJetCount\", \n",
      "    \";number of overlapping jets;number of events\",\n",
      "    5, -.5, 4.5\n",
      ")"
     ],
     "language": "python",
     "metadata": {},
     "outputs": [],
     "prompt_number": 21
    },
    {
     "cell_type": "markdown",
     "metadata": {},
     "source": [
      "## Eventloop"
     ]
    },
    {
     "cell_type": "code",
     "collapsed": false,
     "input": [
      "for event in events:\n",
      "\n",
      "    event.getByLabel(\"genParticles\", h_genParticles)\n",
      "    genParticles = h_genParticles.product()\n",
      "    \n",
      "    fin_b = final_b_mesons(genParticles)\n",
      "    a, b = find_min_dr_pair(fin_b)\n",
      "    dR = deltaR(a, b)\n",
      "    fs.MinDeltaR.Fill(dR)\n",
      "    \n",
      "    #################################### two close b's\n",
      "    if dR < jet_radius: \n",
      "        event.getByLabel(jet_label, h_jets)\n",
      "        close_jets = list(\n",
      "            j for j in h_jets.product()\n",
      "            if deltaR(j, a) < jet_radius and deltaR(j, b) < jet_radius\n",
      "        )\n",
      "        \n",
      "        # control histograms\n",
      "        if dR < 0.05:\n",
      "            fs.FirstBinEta.Fill(a.p4().eta())\n",
      "            fs.FirstBinJetCount.Fill(len(close_jets))\n",
      "        \n",
      "        ################################ one candidate jet\n",
      "        if len(close_jets) == 1: \n",
      "            jet = close_jets[0]\n",
      "            fs.MinDeltaRSameJet.Fill(dR)\n",
      "            \n",
      "            event.getByLabel(\"MyAk7PFSecondaryVertexTagInfos\", h_sv_std)\n",
      "            event.getByLabel(\"MyAk7PFInclusiveSecondaryVertexFinderTagInfos\", h_sv_ivf)\n",
      "\n",
      "            # get flight direction from all vertices\n",
      "            flight_directions_std = list(itertools.chain.from_iterable(\n",
      "                (t.flightDirection(i) for i in xrange(t.nVertexCandidates()))\n",
      "                for t in h_sv_std.product()\n",
      "            ))\n",
      "            flight_directions_ivf = list(itertools.chain.from_iterable(\n",
      "                (t.flightDirection(i) for i in xrange(t.nVertexCandidates()))\n",
      "                for t in h_sv_ivf.product()\n",
      "            ))\n",
      "\n",
      "            # find flight directions in jet cone\n",
      "            close_sv_std = list(\n",
      "                fd for fd in flight_directions_std\n",
      "                if my_deltaR(fd, jet.p4()) < jet_radius\n",
      "            )\n",
      "            close_sv_ivf = list(\n",
      "                fd for fd in flight_directions_ivf\n",
      "                if my_deltaR(fd, jet.p4()) < jet_radius\n",
      "            )\n",
      "            \n",
      "            # fill histograms for 2 or more vertices\n",
      "            if len(close_sv_std) > 1:\n",
      "                fs.JetWithDoubleStdSV.Fill(dR)\n",
      "            if len(close_sv_ivf) > 1:\n",
      "                fs.JetWithDoubleIvfSV.Fill(dR)\n"
     ],
     "language": "python",
     "metadata": {},
     "outputs": [],
     "prompt_number": 22
    },
    {
     "cell_type": "markdown",
     "metadata": {},
     "source": [
      "# Plotting ..."
     ]
    },
    {
     "cell_type": "code",
     "collapsed": false,
     "input": [
      "from rootpy.plotting import Hist\n",
      "from ROOT import TCanvas\n",
      "from ROOT import TGraphAsymmErrors\n",
      "import random\n",
      "def mkgrph(sub, total):\n",
      "    n = str(random.randint(0,1e20))\n",
      "    c = TCanvas(n, n)\n",
      "    TGraphAsymmErrors(sub, total).Draw(\"AP\")\n",
      "    return c"
     ],
     "language": "python",
     "metadata": {},
     "outputs": [],
     "prompt_number": 23
    },
    {
     "cell_type": "markdown",
     "metadata": {},
     "source": [
      "### Min dR between generator B's"
     ]
    },
    {
     "cell_type": "code",
     "collapsed": false,
     "input": [
      "fs.MinDeltaR.Sumw2()\n",
      "fs.MinDeltaR"
     ],
     "language": "python",
     "metadata": {},
     "outputs": [
      {
       "metadata": {},
       "output_type": "pyout",
       "png": "[encoded data removed]",
       "prompt_number": 24,
       "text": [
        "<ROOT.TH1D object (\"MinDeltaR\") at 0xcc7f920>"
       ]
      }
     ],
     "prompt_number": 24
    },
    {
     "cell_type": "markdown",
     "metadata": {},
     "source": [
      "### Fraction where B's are in the same jet (== 1 jet in vicinity)"
     ]
    },
    {
     "cell_type": "code",
     "collapsed": false,
     "input": [
      "mkgrph(fs.MinDeltaRSameJet, fs.MinDeltaR)"
     ],
     "language": "python",
     "metadata": {},
     "outputs": [
      {
       "metadata": {},
       "output_type": "pyout",
       "png": "[encoded data removed]",
       "prompt_number": 25,
       "text": [
        "<ROOT.TCanvas object (\"76887932439768790981\") at 0xccab4c0>"
       ]
      }
     ],
     "prompt_number": 25
    },
    {
     "cell_type": "markdown",
     "metadata": {},
     "source": [
      "### Why not 100% in first bin?"
     ]
    },
    {
     "cell_type": "code",
     "collapsed": false,
     "input": [
      "print \"fraction of events with exactly one jet overlapping:\",\n",
      "print fs.FirstBinJetCount.Integral(1,2) / fs.FirstBinJetCount.Integral()\n",
      "fs.FirstBinJetCount"
     ],
     "language": "python",
     "metadata": {},
     "outputs": [
      {
       "output_type": "stream",
       "stream": "stdout",
       "text": [
        "fraction of events with exactly one jet overlapping: 0.736842105263\n"
       ]
      },
      {
       "metadata": {},
       "output_type": "pyout",
       "png": "[encoded data removed]",
       "prompt_number": 33,
       "text": [
        "<ROOT.TH1D object (\"FirstBinJetCount\") at 0xcc7dd20>"
       ]
      }
     ],
     "prompt_number": 33
    },
    {
     "cell_type": "markdown",
     "metadata": {},
     "source": [
      "### Fraction where >= 2 reconstructed _standard_ SV's are in the same jet cone"
     ]
    },
    {
     "cell_type": "code",
     "collapsed": false,
     "input": [
      "mkgrph(fs.JetWithDoubleStdSV, fs.MinDeltaR)"
     ],
     "language": "python",
     "metadata": {},
     "outputs": [
      {
       "metadata": {},
       "output_type": "pyout",
       "png": "[encoded data removed]",
       "prompt_number": 26,
       "text": [
        "<ROOT.TCanvas object (\"60347379390675624073\") at 0xd0f47b0>"
       ]
      }
     ],
     "prompt_number": 26
    },
    {
     "cell_type": "markdown",
     "metadata": {},
     "source": [
      "### Fraction where >= 2 reconstructed _ivf_ SV's are in the same jet cone"
     ]
    },
    {
     "cell_type": "code",
     "collapsed": false,
     "input": [
      "mkgrph(fs.JetWithDoubleIvfSV, fs.MinDeltaR)"
     ],
     "language": "python",
     "metadata": {},
     "outputs": [
      {
       "metadata": {},
       "output_type": "pyout",
       "png": "[encoded data removed]",
       "prompt_number": 30,
       "text": [
        "<ROOT.TCanvas object (\"21974537866172035399\") at 0xd14de60>"
       ]
      }
     ],
     "prompt_number": 30
    },
    {
     "cell_type": "markdown",
     "metadata": {},
     "source": [
      "# WARNING!\n",
      "There be dragons beyond this point."
     ]
    },
    {
     "cell_type": "code",
     "collapsed": false,
     "input": [
      "event = next(events)\n",
      "event.getByLabel(\"MyAk7PFInclusiveSecondaryVertexFinderTagInfos\", h_sv_ivf)\n",
      "sv_ivf = h_sv_ivf.product()"
     ],
     "language": "python",
     "metadata": {},
     "outputs": [
      {
       "ename": "StopIteration",
       "evalue": "",
       "output_type": "pyerr",
       "traceback": [
        "\u001b[1;31m---------------------------------------------------------------------------\u001b[0m\n\u001b[1;31mStopIteration\u001b[0m                             Traceback (most recent call last)",
        "\u001b[1;32m<ipython-input-12-1fa39821b6fa>\u001b[0m in \u001b[0;36m<module>\u001b[1;34m()\u001b[0m\n\u001b[1;32m----> 1\u001b[1;33m \u001b[0mevent\u001b[0m \u001b[1;33m=\u001b[0m \u001b[0mnext\u001b[0m\u001b[1;33m(\u001b[0m\u001b[0mevents\u001b[0m\u001b[1;33m)\u001b[0m\u001b[1;33m\u001b[0m\u001b[0m\n\u001b[0m\u001b[0;32m      2\u001b[0m \u001b[0mevent\u001b[0m\u001b[1;33m.\u001b[0m\u001b[0mgetByLabel\u001b[0m\u001b[1;33m(\u001b[0m\u001b[1;34m\"MyAk7PFInclusiveSecondaryVertexFinderTagInfos\"\u001b[0m\u001b[1;33m,\u001b[0m \u001b[0mh_sv_ivf\u001b[0m\u001b[1;33m)\u001b[0m\u001b[1;33m\u001b[0m\u001b[0m\n\u001b[0;32m      3\u001b[0m \u001b[0msv_ivf\u001b[0m \u001b[1;33m=\u001b[0m \u001b[0mh_sv_ivf\u001b[0m\u001b[1;33m.\u001b[0m\u001b[0mproduct\u001b[0m\u001b[1;33m(\u001b[0m\u001b[1;33m)\u001b[0m\u001b[1;33m\u001b[0m\u001b[0m\n",
        "\u001b[1;31mStopIteration\u001b[0m: "
       ]
      }
     ],
     "prompt_number": 12
    },
    {
     "cell_type": "code",
     "collapsed": false,
     "input": [
      "sv = sv_ivf[3]\n",
      "print sv.nVertexCandidates()\n",
      "vtx = sv.secondaryVertex(0)\n",
      "vec = sv.flightDirection(4)\n",
      "print vec.x()\n",
      "print vec.y()\n",
      "print vec.z()"
     ],
     "language": "python",
     "metadata": {},
     "outputs": [
      {
       "output_type": "stream",
       "stream": "stdout",
       "text": [
        "1\n",
        "0.225957214832\n",
        "0.0\n",
        "5.51322204283e-37\n"
       ]
      }
     ],
     "prompt_number": 5
    },
    {
     "cell_type": "code",
     "collapsed": false,
     "input": [
      "vec.eta()\n"
     ],
     "language": "python",
     "metadata": {},
     "outputs": [
      {
       "metadata": {},
       "output_type": "pyout",
       "prompt_number": 12,
       "text": [
        "2.4399407067161681e-36"
       ]
      }
     ],
     "prompt_number": 12
    },
    {
     "cell_type": "code",
     "collapsed": false,
     "input": [],
     "language": "python",
     "metadata": {},
     "outputs": []
    }
   ],
   "metadata": {}
  }
 ]
}