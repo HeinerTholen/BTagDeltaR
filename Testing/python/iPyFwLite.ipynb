{
 "metadata": {
  "name": ""
 },
 "nbformat": 3,
 "nbformat_minor": 0,
 "worksheets": [
  {
   "cells": [
    {
     "cell_type": "markdown",
     "metadata": {},
     "source": [
      "# BTagDeltaR Testing Playground Script\n",
      "## imports, variables, convenience functions, ..."
     ]
    },
    {
     "cell_type": "code",
     "collapsed": false,
     "input": [
      "import ROOT\n",
      "import itertools\n",
      "import numpy as np\n",
      "from MyUtility.PythonUtil.genParticles import daughters_of_z_boson, final_b_mesons\n",
      "from DataFormats.FWLite import Events,Handle\n",
      "path_smp = \"file:/nfs/dust/cms/user/tholenhe/samples/\""
     ],
     "language": "python",
     "metadata": {},
     "outputs": [],
     "prompt_number": 1
    },
    {
     "cell_type": "code",
     "collapsed": false,
     "input": [
      "h_genParticles = Handle(\"vector<reco::GenParticle>\")\n",
      "\n",
      "h_sv_std = Handle(\"vector<reco::SecondaryVertexTagInfo>\")\n",
      "h_sv_ivf = Handle(\"vector<reco::SecondaryVertexTagInfo>\")"
     ],
     "language": "python",
     "metadata": {},
     "outputs": [],
     "prompt_number": 2
    },
    {
     "cell_type": "code",
     "collapsed": false,
     "input": [
      "DeltaR = ROOT.Math.VectorUtil.DeltaR\n",
      "deltaR = lambda a,b: DeltaR(a.p4(), b.p4())\n",
      "def my_deltaR(a, b):\n",
      "    return (\n",
      "        (a.eta()-b.eta())**2 \n",
      "        + (float(a.phi())-float(b.phi()))**2\n",
      "    )**.5\n",
      "\n",
      "def find_min_dr_pair(particles):\n",
      "    pairs = list(itertools.combinations(particles, 2))\n",
      "    return min(pairs, key=lambda a: deltaR(*a))\n",
      "\n",
      "def get_all_vertex_pairs(tag_infos):\n",
      "    return list(\n",
      "        itertools.chain.from_iterable(\n",
      "            (\n",
      "                 (t.secondaryVertex(i), t.flightDirection(i)) \n",
      "                 for i in xrange(t.nVertexCandidates())\n",
      "            )\n",
      "            for t in tag_infos\n",
      "        )\n",
      "    )\n",
      "\n",
      "def get_close_vertex_pairs(vtx_pairs, a, b):\n",
      "    return list(\n",
      "        p for p in vtx_pairs\n",
      "        if (my_deltaR(p[1], a.p4()) < 0.1 or my_deltaR(p[1], b.p4()) < 0.1)\n",
      "    )\n",
      "\n",
      "def calc_matching_significance(secondary_vertex, particle):\n",
      "    # get the difference vector of vertices\n",
      "    gv = particle.daughter(0).vertex()    # gen vertex point\n",
      "    rv = secondary_vertex.position()      # reco vertex point\n",
      "    factor_rho = rv.rho() / gv.rho()\n",
      "    vec = np.array([\n",
      "        rv.x() - (gv.x() * factor_rho),\n",
      "        rv.y() - (gv.y() * factor_rho),\n",
      "        rv.z() - (gv.z() * factor_rho)\n",
      "    ])\n",
      "\n",
      "    cov = secondary_vertex.covariance()\n",
      "    assert(cov.Invert())\n",
      "    np_cov = np.matrix( tuple(tuple(cov(i,j) for i in range(3)) for j in range(3) ) )\n",
      "    cov.Invert()\n",
      "    sig2 = np.dot(np.dot(vec, np_cov), vec)\n",
      "\n",
      "    return sig2[0,0]**.5\n",
      "    "
     ],
     "language": "python",
     "metadata": {},
     "outputs": [],
     "prompt_number": 3
    },
    {
     "cell_type": "markdown",
     "metadata": {},
     "source": [
      "### Open event files "
     ]
    },
    {
     "cell_type": "code",
     "collapsed": false,
     "input": [
      "events = iter(Events(\n",
      "    path_smp + \"recoPlusSV.root\"\n",
      "))"
     ],
     "language": "python",
     "metadata": {},
     "outputs": [],
     "prompt_number": 4
    },
    {
     "cell_type": "markdown",
     "metadata": {},
     "source": [
      "### histograms definitions"
     ]
    },
    {
     "cell_type": "code",
     "collapsed": false,
     "input": [
      "from varial import diskio\n",
      "fs = diskio.fileservice()\n",
      "fs.MinDeltaR = ROOT.TH1D(\n",
      "    \"MinDeltaR\", \n",
      "    \";min #DeltaR between final B's;number of events\",\n",
      "    16, 0., 0.8\n",
      ")\n",
      "fs.MatchedStdSV = ROOT.TH1D(\n",
      "    \"MatchedStdSV\", \n",
      "    \";min #DeltaR between final B's;number of events\",\n",
      "    16, 0., 0.8\n",
      ")\n",
      "fs.MatchedIvfSV = ROOT.TH1D(\n",
      "    \"MatchedIvfSV\", \n",
      "    \";min #DeltaR between final B's;number of events\",\n",
      "    16, 0., 0.8\n",
      ")\n",
      "fs.CovHistoIVF = ROOT.TH1D(\n",
      "    \"MatchingSignificanceDistance\",\n",
      "    \";#Delta X;number of vertices\",\n",
      "    100, 0., 100.\n",
      ")"
     ],
     "language": "python",
     "metadata": {},
     "outputs": [],
     "prompt_number": 5
    },
    {
     "cell_type": "markdown",
     "metadata": {},
     "source": [
      "## Eventloop"
     ]
    },
    {
     "cell_type": "code",
     "collapsed": false,
     "input": [
      "for event in events:\n",
      "\n",
      "    event.getByLabel(\"genParticles\", h_genParticles)\n",
      "    genParticles = h_genParticles.product()\n",
      "    \n",
      "    fin_b = final_b_mesons(genParticles)\n",
      "    a, b = find_min_dr_pair(fin_b)\n",
      "    dR = deltaR(a, b)\n",
      "    fs.MinDeltaR.Fill(dR)\n",
      "    \n",
      "    #################################### two close b's\n",
      "    if dR < 0.7: \n",
      "\n",
      "        event.getByLabel(\"MyAk7PFSecondaryVertexTagInfos\", h_sv_std)\n",
      "        event.getByLabel(\"MyAk7PFInclusiveSecondaryVertexFinderTagInfos\", h_sv_ivf)\n",
      "\n",
      "        # get flight direction from all vertices\n",
      "        vtx_pair_std = get_all_vertex_pairs(h_sv_std.product())\n",
      "        vtx_pair_ivf = get_all_vertex_pairs(h_sv_ivf.product())\n",
      "\n",
      "        # find matching flight directions\n",
      "        close_vtx_pair_std = get_close_vertex_pairs(vtx_pair_std, a, b)\n",
      "        close_vtx_pair_ivf = get_close_vertex_pairs(vtx_pair_ivf, a, b)\n",
      "            \n",
      "        # fill histograms for 2 or more vertices\n",
      "        if len(close_vtx_pair_std) > 1:\n",
      "            fs.MatchedStdSV.Fill(dR)\n",
      "        if len(close_vtx_pair_ivf) > 1:\n",
      "            fs.MatchedIvfSV.Fill(dR)\n",
      "\n",
      "            # get single close flight dir\n",
      "            an_ivf_vtx = close_vtx_pair_ivf[0]\n",
      "            if dR > 0.2:  # make sure not to match to the other one\n",
      "                if my_deltaR(an_ivf_vtx[1], a.p4()) < 0.1:\n",
      "                    fs.CovHistoIVF.Fill(calc_matching_significance(an_ivf_vtx[0], a))\n",
      "                else:\n",
      "                    fs.CovHistoIVF.Fill(calc_matching_significance(an_ivf_vtx[0], b))"
     ],
     "language": "python",
     "metadata": {},
     "outputs": [
      {
       "output_type": "stream",
       "stream": "stderr",
       "text": [
        "TClassTable::Add:0: RuntimeWarning: class ROOT::Math::RowOffsets<2> already in TClassTable\n",
        "TClassTable::Add:0: RuntimeWarning: class ROOT::Math::RowOffsets<3> already in TClassTable\n",
        "TClassTable::Add:0: RuntimeWarning: class ROOT::Math::RowOffsets<4> already in TClassTable\n",
        "TClassTable::Add:0: RuntimeWarning: class ROOT::Math::RowOffsets<5> already in TClassTable\n",
        "TClassTable::Add:0: RuntimeWarning: class ROOT::Math::RowOffsets<6> already in TClassTable\n",
        "TClassTable::Add:0: RuntimeWarning: class ROOT::Math::RowOffsets<7> already in TClassTable\n",
        "TClassTable::Add:0: RuntimeWarning: class ROOT::Math::SVector<double,3> already in TClassTable\n",
        "TClassTable::Add:0: RuntimeWarning: class ROOT::Math::SVector<double,2> already in TClassTable\n",
        "TClassTable::Add:0: RuntimeWarning: class ROOT::Math::SVector<double,6> already in TClassTable\n",
        "TClassTable::Add:0: RuntimeWarning: class ROOT::Math::SVector<double,4> already in TClassTable\n",
        "TClassTable::Add:0: RuntimeWarning: class ROOT::Math::SVector<double,5> already in TClassTable\n",
        "TClassTable::Add:0: RuntimeWarning: class ROOT::Math::MatRepSym<double,2> already in TClassTable\n",
        "TClassTable::Add:0: RuntimeWarning: class ROOT::Math::SMatrix<double,2,2,ROOT::Math::MatRepSym<double,2> > already in TClassTable\n",
        "TClassTable::Add:0: RuntimeWarning: class ROOT::Math::MatRepSym<double,3> already in TClassTable\n",
        "TClassTable::Add:0: RuntimeWarning: class ROOT::Math::SMatrix<double,3,3,ROOT::Math::MatRepSym<double,3> > already in TClassTable\n",
        "TClassTable::Add:0: RuntimeWarning: class ROOT::Math::MatRepSym<double,4> already in TClassTable\n",
        "TClassTable::Add:0: RuntimeWarning: class ROOT::Math::SMatrix<double,4,4,ROOT::Math::MatRepSym<double,4> > already in TClassTable\n",
        "TClassTable::Add:0: RuntimeWarning: class ROOT::Math::MatRepSym<double,5> already in TClassTable\n",
        "TClassTable::Add:0: RuntimeWarning: class ROOT::Math::SMatrix<double,5,5,ROOT::Math::MatRepSym<double,5> > already in TClassTable\n",
        "TClassTable::Add:0: RuntimeWarning: class ROOT::Math::MatRepSym<double,6> already in TClassTable\n",
        "TClassTable::Add:0: RuntimeWarning: class ROOT::Math::SMatrix<double,6,6,ROOT::Math::MatRepSym<double,6> > already in TClassTable\n",
        "TClassTable::Add:0: RuntimeWarning: class ROOT::Math::MatRepSym<double,7> already in TClassTable\n",
        "TClassTable::Add:0: RuntimeWarning: class ROOT::Math::SMatrix<double,7,7,ROOT::Math::MatRepSym<double,7> > already in TClassTable\n",
        "TClassTable::Add:0: RuntimeWarning: class ROOT::Math::SVector<float,3> already in TClassTable\n",
        "TClassTable::Add:0: RuntimeWarning: class ROOT::Math::SVector<float,2> already in TClassTable\n",
        "TClassTable::Add:0: RuntimeWarning: class ROOT::Math::SVector<float,6> already in TClassTable\n",
        "TClassTable::Add:0: RuntimeWarning: class ROOT::Math::SVector<float,4> already in TClassTable\n",
        "TClassTable::Add:0: RuntimeWarning: class ROOT::Math::SVector<float,5> already in TClassTable\n",
        "TClassTable::Add:0: RuntimeWarning: class ROOT::Math::SVector<float,7> already in TClassTable\n",
        "TClassTable::Add:0: RuntimeWarning: class ROOT::Math::MatRepSym<float,2> already in TClassTable\n",
        "TClassTable::Add:0: RuntimeWarning: class ROOT::Math::SMatrix<float,2,2,ROOT::Math::MatRepSym<float,2> > already in TClassTable\n",
        "TClassTable::Add:0: RuntimeWarning: class ROOT::Math::MatRepSym<float,3> already in TClassTable\n",
        "TClassTable::Add:0: RuntimeWarning: class ROOT::Math::SMatrix<float,3,3,ROOT::Math::MatRepSym<float,3> > already in TClassTable\n",
        "TClassTable::Add:0: RuntimeWarning: class ROOT::Math::MatRepSym<float,4> already in TClassTable\n",
        "TClassTable::Add:0: RuntimeWarning: class ROOT::Math::SMatrix<float,4,4,ROOT::Math::MatRepSym<float,4> > already in TClassTable\n",
        "TClassTable::Add:0: RuntimeWarning: class ROOT::Math::MatRepSym<float,5> already in TClassTable\n",
        "TClassTable::Add:0: RuntimeWarning: class ROOT::Math::SMatrix<float,5,5,ROOT::Math::MatRepSym<float,5> > already in TClassTable\n",
        "TClassTable::Add:0: RuntimeWarning: class ROOT::Math::MatRepSym<float,6> already in TClassTable\n",
        "TClassTable::Add:0: RuntimeWarning: class ROOT::Math::SMatrix<float,6,6,ROOT::Math::MatRepSym<float,6> > already in TClassTable\n",
        "TClassTable::Add:0: RuntimeWarning: class ROOT::Math::MatRepSym<float,7> already in TClassTable\n",
        "TClassTable::Add:0: RuntimeWarning: class ROOT::Math::SMatrix<float,7,7,ROOT::Math::MatRepSym<float,7> > already in TClassTable\n"
       ]
      }
     ],
     "prompt_number": 6
    },
    {
     "cell_type": "markdown",
     "metadata": {},
     "source": [
      "# Plotting ..."
     ]
    },
    {
     "cell_type": "code",
     "collapsed": false,
     "input": [
      "from rootpy.plotting import Hist\n",
      "from ROOT import TCanvas\n",
      "from ROOT import TGraphAsymmErrors\n",
      "import random\n",
      "def mkgrph(sub, total):\n",
      "    n = str(random.randint(0,1e20))\n",
      "    c = TCanvas(n, n)\n",
      "    g = TGraphAsymmErrors(sub, total)\n",
      "    g.Draw(\"AP\")\n",
      "    g.GetXaxis().SetTitle(sub.GetXaxis().GetTitle())\n",
      "    g.GetYaxis().SetTitle(sub.GetYaxis().GetTitle())\n",
      "    c.Update()\n",
      "    return c"
     ],
     "language": "python",
     "metadata": {},
     "outputs": [],
     "prompt_number": 7
    },
    {
     "cell_type": "markdown",
     "metadata": {},
     "source": [
      "### Min dR between generator B's"
     ]
    },
    {
     "cell_type": "code",
     "collapsed": false,
     "input": [
      "fs.MinDeltaR.Sumw2()\n",
      "fs.MinDeltaR"
     ],
     "language": "python",
     "metadata": {},
     "outputs": [
      {
       "metadata": {},
       "output_type": "pyout",
       "png": "[encoded data removed]",
       "prompt_number": 8,
       "text": [
        "<ROOT.TH1D object (\"MinDeltaR\") at 0x6fa1da0>"
       ]
      }
     ],
     "prompt_number": 8
    },
    {
     "cell_type": "markdown",
     "metadata": {},
     "source": [
      "### Fraction where >= 2 reconstructed _standard_ SV's are matched"
     ]
    },
    {
     "cell_type": "code",
     "collapsed": false,
     "input": [
      "mkgrph(fs.MatchedStdSV, fs.MinDeltaR)"
     ],
     "language": "python",
     "metadata": {},
     "outputs": [
      {
       "metadata": {},
       "output_type": "pyout",
       "png": "[encoded data removed]",
       "prompt_number": 9,
       "text": [
        "<ROOT.TCanvas object (\"1416127584805171657\") at 0xcd92990>"
       ]
      }
     ],
     "prompt_number": 9
    },
    {
     "cell_type": "markdown",
     "metadata": {},
     "source": [
      "### Fraction where >= 2 reconstructed _ivf_ SV's are matched"
     ]
    },
    {
     "cell_type": "code",
     "collapsed": false,
     "input": [
      "mkgrph(fs.MatchedIvfSV, fs.MinDeltaR)"
     ],
     "language": "python",
     "metadata": {},
     "outputs": [
      {
       "metadata": {},
       "output_type": "pyout",
       "png": "[encoded data removed]",
       "prompt_number": 10,
       "text": [
        "<ROOT.TCanvas object (\"68185338902871219615\") at 0xd0469c0>"
       ]
      }
     ],
     "prompt_number": 10
    },
    {
     "cell_type": "markdown",
     "metadata": {},
     "source": [
      "### Matching significance"
     ]
    },
    {
     "cell_type": "code",
     "collapsed": false,
     "input": [
      "fs.CovHistoIVF"
     ],
     "language": "python",
     "metadata": {},
     "outputs": [
      {
       "metadata": {},
       "output_type": "pyout",
       "png": "[encoded data removed]",
       "prompt_number": 11,
       "text": [
        "<ROOT.TH1D object (\"MatchingSignificanceDistance\") at 0x7020ac0>"
       ]
      }
     ],
     "prompt_number": 11
    },
    {
     "cell_type": "markdown",
     "metadata": {},
     "source": [
      "# WARNING!\n",
      "Radioactive testing zone"
     ]
    },
    {
     "cell_type": "code",
     "collapsed": false,
     "input": [
      "event = next(events)\n",
      "event.getByLabel(\"MyAk7PFInclusiveSecondaryVertexFinderTagInfos\", h_sv_ivf)\n",
      "sv_ivf = h_sv_ivf.product()"
     ],
     "language": "python",
     "metadata": {},
     "outputs": [],
     "prompt_number": 8
    },
    {
     "cell_type": "code",
     "collapsed": false,
     "input": [
      "svt = sv_ivf[1]\n",
      "sv = svt.secondaryVertex(0)\n",
      "sv"
     ],
     "language": "python",
     "metadata": {},
     "outputs": [
      {
       "metadata": {},
       "output_type": "pyout",
       "prompt_number": 9,
       "text": [
        "<ROOT.reco::Vertex object at 0x8796f30>"
       ]
      }
     ],
     "prompt_number": 9
    },
    {
     "cell_type": "code",
     "collapsed": false,
     "input": [
      "cov = sv.covariance()\n",
      "pos = sv.position()"
     ],
     "language": "python",
     "metadata": {},
     "outputs": [],
     "prompt_number": 58
    },
    {
     "cell_type": "code",
     "collapsed": false,
     "input": [
      "for i in range(3):\n",
      "    print list(cov(i, j) for j in range(3))"
     ],
     "language": "python",
     "metadata": {},
     "outputs": [
      {
       "output_type": "stream",
       "stream": "stdout",
       "text": [
        "[209640.77501361308, 61203.620512941947, -12038.912855527167]\n",
        "[61203.620512941947, 27427.30174735895, 18079.422944221456]\n",
        "[-12038.912855527167, 18079.422944221456, 54254.894870876706]\n"
       ]
      }
     ],
     "prompt_number": 60
    },
    {
     "cell_type": "code",
     "collapsed": false,
     "input": [],
     "language": "python",
     "metadata": {},
     "outputs": []
    }
   ],
   "metadata": {}
  }
 ]
}