{
 "metadata": {
  "name": ""
 },
 "nbformat": 3,
 "nbformat_minor": 0,
 "worksheets": [
  {
   "cells": [
    {
     "cell_type": "markdown",
     "metadata": {},
     "source": [
      "# BTagDeltaR Testing Playground Script\n",
      "## imports, variables, convenience functions, ..."
     ]
    },
    {
     "cell_type": "code",
     "collapsed": false,
     "input": [
      "import itertools\n",
      "import numpy as np\n",
      "import ROOT\n",
      "ROOT.TH1.AddDirectory(False)\n",
      "import varial\n",
      "\n",
      "from MyUtility.PythonUtil.genParticles import *\n",
      "from MyUtility.PythonUtil.eventlooputility import *\n",
      "\n",
      "from DataFormats.FWLite import Events,Handle\n",
      "path_smp = \"file:/nfs/dust/cms/user/tholenhe/samples/\""
     ],
     "language": "python",
     "metadata": {},
     "outputs": [],
     "prompt_number": 16
    },
    {
     "cell_type": "code",
     "collapsed": false,
     "input": [
      "h_genParticles = Handle(\"vector<reco::GenParticle>\")\n",
      "h_pv = Handle(\"vector<reco::Vertex>\")\n",
      "h_ivf = Handle(\"vector<reco::Vertex>\")"
     ],
     "language": "python",
     "metadata": {},
     "outputs": [],
     "prompt_number": 3
    },
    {
     "cell_type": "code",
     "collapsed": false,
     "input": [
      "DeltaR = ROOT.Math.VectorUtil.DeltaR\n",
      "deltaR = lambda a,b: DeltaR(a.p4(), b.p4())\n",
      "def my_deltaR(a, b):\n",
      "    return (\n",
      "        (a.eta()-b.eta())**2 \n",
      "        + (float(a.phi())-float(b.phi()))**2\n",
      "    )**.5\n",
      "\n",
      "def mkvec(root_vec):\n",
      "    return np.array([\n",
      "        root_vec.x(), \n",
      "        root_vec.y(), \n",
      "        root_vec.z()\n",
      "    ])\n",
      "\n",
      "def calc_matching_significance(secondary_vertex, gen_particle):\n",
      "    # get the difference vector of vertices\n",
      "    gsv = mkvec(gen_particle.daughter(0).vertex())  # gen secondary vertex\n",
      "    rsv = mkvec(secondary_vertex.position())    # reco secondary vertex\n",
      "    vec = gsv - rsv                            # reco vector\n",
      "\n",
      "    # calculate significance^2\n",
      "    cov = secondary_vertex.covariance()\n",
      "    assert(cov.Invert())\n",
      "    np_cov = np.matrix( tuple(tuple(cov(i,j) for i in range(3)) for j in range(3) ) )\n",
      "    cov.Invert()\n",
      "    sig2 = np.dot(np.dot(vec, np_cov), vec)     # sig2 = vec_T * inv_cov * vec_T\n",
      "    \n",
      "    return sig2[0,0]**.5"
     ],
     "language": "python",
     "metadata": {},
     "outputs": [],
     "prompt_number": 4
    },
    {
     "cell_type": "markdown",
     "metadata": {},
     "source": [
      "### Open event files "
     ]
    },
    {
     "cell_type": "code",
     "collapsed": false,
     "input": [
      "events = iter(Events(\n",
      "    path_smp + \"TTdilep_presel.root\"\n",
      "))"
     ],
     "language": "python",
     "metadata": {},
     "outputs": [],
     "prompt_number": 18
    },
    {
     "cell_type": "markdown",
     "metadata": {},
     "source": [
      "### histograms definitions"
     ]
    },
    {
     "cell_type": "code",
     "collapsed": false,
     "input": [
      "fs = varial.analysis.fileservice()\n",
      "fs.make(\n",
      "    \"NumFinB\", \n",
      "    \";number of final B hadrons;number of events\",\n",
      "    11, -.5, 10.5\n",
      ")\n",
      "fs.make(\n",
      "    \"NumFinD\", \n",
      "    \";number of final D hadrons;number of events\",\n",
      "    11, -.5, 10.5\n",
      ")\n",
      "fs.make(\n",
      "    \"NumIvfVtx\", \n",
      "    \";number of ivf vertices;number of events\",\n",
      "    11, -.5, 10.5\n",
      ")\n",
      "fs.make(\n",
      "    \"MatchSigBee\",\n",
      "    \";#Delta X;number of vertices\",\n",
      "    100, 0., 100.\n",
      ")\n",
      "fs.make(\n",
      "    \"MatchSigDee\",\n",
      "    \";#Delta X;number of vertices\",\n",
      "    100, 0., 100.\n",
      ")\n",
      "fs.make(\n",
      "    \"MatchSigBeeDee\",\n",
      "    \";#Delta X;number of vertices\",\n",
      "    100, 0., 100.\n",
      ")\n",
      "fs.make(\n",
      "    \"NumDoubleMatch\",\n",
      "    \";number of vertices matched to B and D hadron; number of events\",\n",
      "    11, -.5, 10.5\n",
      ")"
     ],
     "language": "python",
     "metadata": {},
     "outputs": [],
     "prompt_number": 6
    },
    {
     "cell_type": "markdown",
     "metadata": {},
     "source": [
      "## Eventloop"
     ]
    },
    {
     "cell_type": "code",
     "collapsed": false,
     "input": [
      "for event in events:\n",
      "\n",
      "    event.getByLabel(\"genParticles\", h_genParticles)\n",
      "    genParticles = h_genParticles.product()\n",
      "    event.getByLabel(\"inclusiveMergedVerticesFiltered\", h_ivf)\n",
      "    ivf = h_ivf.product()\n",
      "    \n",
      "    fin_b = final_b_hadrons(genParticles)\n",
      "    fin_d = final_d_hadrons(get_all_daughters(genParticles, fin_b))\n",
      "    fin_bd = fin_b + fin_d\n",
      "    \n",
      "    fs.NumFinB.Fill(len(fin_b))\n",
      "    fs.NumFinD.Fill(len(fin_d))\n",
      "    fs.NumIvfVtx.Fill(len(ivf))\n",
      "    \n",
      "    match_b = matching(ivf, fin_b, calc_matching_significance, 20)\n",
      "    for _, _, sig in match_b:\n",
      "        fs.MatchSigBee.Fill(sig)\n",
      "    \n",
      "    match_d = matching(ivf, fin_d, calc_matching_significance, 20)\n",
      "    for _, _, sig in match_d:\n",
      "        fs.MatchSigDee.Fill(sig)\n",
      "\n",
      "    match_bd = matching(ivf, fin_bd, calc_matching_significance, 20)\n",
      "    for _, _, sig in match_bd:\n",
      "        fs.MatchSigBeeDee.Fill(sig)\n",
      "        \n",
      "    rep_matched_to_b = dict((repr(v), v) for v, _, _ in match_b)  # dict hashing is fast\n",
      "    fs.NumDoubleMatch.Fill(sum(1. for v, _, _ in match_d if repr(v) in rep_matched_to_b))\n",
      "\n",
      "\n",
      "\n",
      "    "
     ],
     "language": "python",
     "metadata": {},
     "outputs": [],
     "prompt_number": 15
    },
    {
     "cell_type": "markdown",
     "metadata": {},
     "source": [
      "# Plotting ..."
     ]
    },
    {
     "cell_type": "code",
     "collapsed": false,
     "input": [
      "from rootpy.plotting import Hist\n",
      "from ROOT import TCanvas\n",
      "from ROOT import TGraphAsymmErrors\n",
      "import random\n",
      "def mkgrph(sub, total):\n",
      "    n = str(random.randint(0,1e20))\n",
      "    c = TCanvas(n, n)\n",
      "    g = TGraphAsymmErrors(sub, total)\n",
      "    g.Draw(\"AP\")\n",
      "    g.GetXaxis().SetTitle(sub.GetXaxis().GetTitle())\n",
      "    g.GetYaxis().SetTitle(sub.GetYaxis().GetTitle())\n",
      "    c.Update()\n",
      "    return c"
     ],
     "language": "python",
     "metadata": {},
     "outputs": [],
     "prompt_number": 8
    },
    {
     "cell_type": "markdown",
     "metadata": {},
     "source": [
      "### Number of B and D hadrons (where the D's are only daughters of the final B's)."
     ]
    },
    {
     "cell_type": "code",
     "collapsed": false,
     "input": [
      "fs.NumFinB"
     ],
     "language": "python",
     "metadata": {},
     "outputs": [
      {
       "metadata": {},
       "output_type": "pyout",
       "png": "[encoded data removed]",
       "prompt_number": 9,
       "text": [
        "<ROOT.TH1D object (\"NumFinB\") at 0x5327150>"
       ]
      }
     ],
     "prompt_number": 9
    },
    {
     "cell_type": "code",
     "collapsed": false,
     "input": [
      "fs.NumFinD"
     ],
     "language": "python",
     "metadata": {},
     "outputs": [
      {
       "metadata": {},
       "output_type": "pyout",
       "png": "[encoded data removed]",
       "prompt_number": 10,
       "text": [
        "<ROOT.TH1D object (\"NumFinD\") at 0x531e980>"
       ]
      }
     ],
     "prompt_number": 10
    },
    {
     "cell_type": "markdown",
     "metadata": {},
     "source": [
      "### Number of vertices matched to b and d"
     ]
    },
    {
     "cell_type": "code",
     "collapsed": false,
     "input": [
      "fs.NumDoubleMatch"
     ],
     "language": "python",
     "metadata": {},
     "outputs": [
      {
       "metadata": {},
       "output_type": "pyout",
       "png": "[encoded data removed]",
       "prompt_number": 11,
       "text": [
        "<ROOT.TH1D object (\"NumDoubleMatch\") at 0x53010f0>"
       ]
      }
     ],
     "prompt_number": 11
    },
    {
     "cell_type": "markdown",
     "metadata": {},
     "source": [
      "### Matching significance for B and D hadrons"
     ]
    },
    {
     "cell_type": "code",
     "collapsed": false,
     "input": [
      "fs.MatchSigBee"
     ],
     "language": "python",
     "metadata": {},
     "outputs": [
      {
       "metadata": {},
       "output_type": "pyout",
       "png": "[encoded data removed]",
       "prompt_number": 12,
       "text": [
        "<ROOT.TH1D object (\"MatchSigBee\") at 0x5368050>"
       ]
      }
     ],
     "prompt_number": 12
    },
    {
     "cell_type": "code",
     "collapsed": false,
     "input": [
      "fs.MatchSigDee"
     ],
     "language": "python",
     "metadata": {},
     "outputs": [
      {
       "metadata": {},
       "output_type": "pyout",
       "png": "[encoded data removed]",
       "prompt_number": 13,
       "text": [
        "<ROOT.TH1D object (\"MatchSigDee\") at 0x535c9a0>"
       ]
      }
     ],
     "prompt_number": 13
    },
    {
     "cell_type": "code",
     "collapsed": false,
     "input": [
      "fs.MatchSigBeeDee"
     ],
     "language": "python",
     "metadata": {},
     "outputs": [
      {
       "metadata": {},
       "output_type": "pyout",
       "png": "[encoded data removed]",
       "prompt_number": 14,
       "text": [
        "<ROOT.TH1D object (\"MatchSigBeeDee\") at 0x535eda0>"
       ]
      }
     ],
     "prompt_number": 14
    },
    {
     "cell_type": "markdown",
     "metadata": {},
     "source": [
      "### ..."
     ]
    },
    {
     "cell_type": "code",
     "collapsed": false,
     "input": [],
     "language": "python",
     "metadata": {},
     "outputs": [],
     "prompt_number": 1
    },
    {
     "cell_type": "markdown",
     "metadata": {},
     "source": [
      "### ..."
     ]
    },
    {
     "cell_type": "code",
     "collapsed": false,
     "input": [],
     "language": "python",
     "metadata": {},
     "outputs": [],
     "prompt_number": 28
    },
    {
     "cell_type": "code",
     "collapsed": false,
     "input": [],
     "language": "python",
     "metadata": {},
     "outputs": [],
     "prompt_number": 28
    },
    {
     "cell_type": "code",
     "collapsed": false,
     "input": [],
     "language": "python",
     "metadata": {},
     "outputs": [],
     "prompt_number": 28
    },
    {
     "cell_type": "markdown",
     "metadata": {},
     "source": [
      "# WARNING!\n",
      "Death rays 'n' stuff ..."
     ]
    },
    {
     "cell_type": "code",
     "collapsed": false,
     "input": [
      "event = next(events)\n",
      "event.getByLabel(\"inclusiveMergedVerticesFiltered\", h_ivf)\n",
      "ivf = h_ivf.product()"
     ],
     "language": "python",
     "metadata": {},
     "outputs": [],
     "prompt_number": 35
    },
    {
     "cell_type": "code",
     "collapsed": false,
     "input": [
      "sv = ivf[0]"
     ],
     "language": "python",
     "metadata": {},
     "outputs": [],
     "prompt_number": 36
    },
    {
     "cell_type": "code",
     "collapsed": false,
     "input": [
      "cov = sv.covariance()\n",
      "pos = sv.position()"
     ],
     "language": "python",
     "metadata": {},
     "outputs": [],
     "prompt_number": 37
    },
    {
     "cell_type": "code",
     "collapsed": false,
     "input": [
      "for i in range(3):\n",
      "    print list(cov(i, j) for j in range(3))"
     ],
     "language": "python",
     "metadata": {},
     "outputs": [
      {
       "output_type": "stream",
       "stream": "stdout",
       "text": [
        "[0.00085845921421423554, 0.00021632718562614173, -0.0006118487217463553]\n",
        "[0.00021632718562614173, 6.3839805079624057e-05, -0.00015576055739074945]\n",
        "[-0.0006118487217463553, -0.00015576055739074945, 0.00045072811190038919]\n"
       ]
      }
     ],
     "prompt_number": 38
    },
    {
     "cell_type": "code",
     "collapsed": false,
     "input": [
      "50000 * 0.024\n",
      "\n"
     ],
     "language": "python",
     "metadata": {},
     "outputs": [
      {
       "metadata": {},
       "output_type": "pyout",
       "prompt_number": 28,
       "text": [
        "1200.0"
       ]
      }
     ],
     "prompt_number": 28
    },
    {
     "cell_type": "code",
     "collapsed": false,
     "input": [
      "event = next(events)\n",
      "event.getByLabel(\"offlinePrimaryVertices\", h_pv)\n",
      "pvtx = h_pv.product()\n",
      "p0 = pvtx[0]"
     ],
     "language": "python",
     "metadata": {},
     "outputs": [],
     "prompt_number": 21
    },
    {
     "cell_type": "code",
     "collapsed": false,
     "input": [
      "pos = p0.position()"
     ],
     "language": "python",
     "metadata": {},
     "outputs": [],
     "prompt_number": 22
    },
    {
     "cell_type": "code",
     "collapsed": false,
     "input": [
      "pos.SetXYZ(1,2,3)"
     ],
     "language": "python",
     "metadata": {},
     "outputs": [
      {
       "metadata": {},
       "output_type": "pyout",
       "prompt_number": 24,
       "text": [
        "<ROOT.ROOT::Math::PositionVector3D<ROOT::Math::Cartesian3D<double>,ROOT::Math::DefaultCoordinateSystemTag> object at 0xdc6b2d8>"
       ]
      }
     ],
     "prompt_number": 24
    },
    {
     "cell_type": "code",
     "collapsed": false,
     "input": [
      "a = np.array((1,2,3))\n",
      "a *= 3\n",
      "a"
     ],
     "language": "python",
     "metadata": {},
     "outputs": [
      {
       "metadata": {},
       "output_type": "pyout",
       "prompt_number": 16,
       "text": [
        "array([3, 6, 9])"
       ]
      }
     ],
     "prompt_number": 16
    },
    {
     "cell_type": "code",
     "collapsed": false,
     "input": [
      "sv.p4().M()"
     ],
     "language": "python",
     "metadata": {},
     "outputs": [
      {
       "metadata": {},
       "output_type": "pyout",
       "prompt_number": 39,
       "text": [
        "0.939450528657092"
       ]
      }
     ],
     "prompt_number": 39
    },
    {
     "cell_type": "code",
     "collapsed": false,
     "input": [],
     "language": "python",
     "metadata": {},
     "outputs": [],
     "prompt_number": 24
    },
    {
     "cell_type": "code",
     "collapsed": false,
     "input": [],
     "language": "python",
     "metadata": {},
     "outputs": [],
     "prompt_number": 52
    },
    {
     "cell_type": "code",
     "collapsed": false,
     "input": [],
     "language": "python",
     "metadata": {},
     "outputs": [],
     "prompt_number": 52
    },
    {
     "cell_type": "code",
     "collapsed": false,
     "input": [],
     "language": "python",
     "metadata": {},
     "outputs": []
    }
   ],
   "metadata": {}
  }
 ]
}