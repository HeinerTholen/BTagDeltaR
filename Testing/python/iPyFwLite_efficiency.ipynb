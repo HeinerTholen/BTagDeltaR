{
 "metadata": {
  "name": ""
 },
 "nbformat": 3,
 "nbformat_minor": 0,
 "worksheets": [
  {
   "cells": [
    {
     "cell_type": "markdown",
     "metadata": {},
     "source": [
      "# IVF BTagDR Efficiency\n",
      "### imports, parameters, functions"
     ]
    },
    {
     "cell_type": "code",
     "collapsed": false,
     "input": [
      "import ROOT\n",
      "import itertools\n",
      "import glob\n",
      "\n",
      "from rootpy.plotting import Hist\n",
      "from MyUtility.PythonUtil.genParticles import final_b_mesons\n",
      "from DataFormats.FWLite import Events,Handle\n",
      "#from dcache_TTdilep import files"
     ],
     "language": "python",
     "metadata": {},
     "outputs": [],
     "prompt_number": 14
    },
    {
     "cell_type": "code",
     "collapsed": false,
     "input": [
      "# parameters\n",
      "DR_for_matching = 0.1\n",
      "files = map(lambda f: \"file:%s\"%f, glob.glob(\n",
      "    \"/nfs/dust/cms/user/tholenhe/samples/DoubleVtxEffTTdilep/TTdilep_presel_*.root\"\n",
      "))"
     ],
     "language": "python",
     "metadata": {},
     "outputs": [],
     "prompt_number": 15
    },
    {
     "cell_type": "code",
     "collapsed": false,
     "input": [
      "# cmssw \n",
      "h_genParticles = Handle(\"vector<reco::GenParticle>\")\n",
      "h_pv = Handle(\"vector<reco::Vertex>\")\n",
      "h_ivf = Handle(\"vector<reco::Vertex>\")\n",
      "events = iter(Events(files))\n",
      "\n",
      "# functions\n",
      "DeltaR = ROOT.Math.VectorUtil.DeltaR\n",
      "deltaR = lambda a,b: DeltaR(a.p4(), b.p4())\n",
      "def my_deltaR(a, b):\n",
      "    return (\n",
      "        (a.eta()-b.eta())**2 \n",
      "        + (float(a.phi())-float(b.phi()))**2\n",
      "    )**.5\n",
      "\n",
      "def get_all_flight_dirs(vertices, primary_vertex):\n",
      "    def mkfd(vtx):\n",
      "        pv, sv = primary_vertex, vtx.position()\n",
      "        return ROOT.Math.XYZVector(\n",
      "            sv.x() - pv.x(),\n",
      "            sv.y() - pv.y(),\n",
      "            sv.z() - pv.z(),\n",
      "        )\n",
      "    return list(mkfd(sv) for sv in vertices)\n",
      "\n",
      "def get_matched_flightdirs(flightdirs, gen_final_bs):\n",
      "    unmatched_final_bs = gen_final_bs[:]\n",
      "    def is_close_to_fin_b(fd):\n",
      "        for bee in unmatched_final_bs[:]:\n",
      "            if my_deltaR(fd, bee.p4()) < DR_for_matching:\n",
      "                unmatched_final_bs.remove(bee)  ## not to be matched twice\n",
      "                return True\n",
      "        return False            \n",
      "    \n",
      "    return list(\n",
      "        fd for fd in flightdirs\n",
      "        if is_close_to_fin_b(fd)\n",
      "    )"
     ],
     "language": "python",
     "metadata": {},
     "outputs": [
      {
       "ename": "RuntimeError",
       "evalue": "No input files given",
       "output_type": "pyerr",
       "traceback": [
        "\u001b[1;31m---------------------------------------------------------------------------\u001b[0m\n\u001b[1;31mRuntimeError\u001b[0m                              Traceback (most recent call last)",
        "\u001b[1;32m<ipython-input-16-722802404ec5>\u001b[0m in \u001b[0;36m<module>\u001b[1;34m()\u001b[0m\n\u001b[0;32m      3\u001b[0m \u001b[0mh_pv\u001b[0m \u001b[1;33m=\u001b[0m \u001b[0mHandle\u001b[0m\u001b[1;33m(\u001b[0m\u001b[1;34m\"vector<reco::Vertex>\"\u001b[0m\u001b[1;33m)\u001b[0m\u001b[1;33m\u001b[0m\u001b[0m\n\u001b[0;32m      4\u001b[0m \u001b[0mh_ivf\u001b[0m \u001b[1;33m=\u001b[0m \u001b[0mHandle\u001b[0m\u001b[1;33m(\u001b[0m\u001b[1;34m\"vector<reco::Vertex>\"\u001b[0m\u001b[1;33m)\u001b[0m\u001b[1;33m\u001b[0m\u001b[0m\n\u001b[1;32m----> 5\u001b[1;33m \u001b[0mevents\u001b[0m \u001b[1;33m=\u001b[0m \u001b[0miter\u001b[0m\u001b[1;33m(\u001b[0m\u001b[0mEvents\u001b[0m\u001b[1;33m(\u001b[0m\u001b[0mfiles\u001b[0m\u001b[1;33m)\u001b[0m\u001b[1;33m)\u001b[0m\u001b[1;33m\u001b[0m\u001b[0m\n\u001b[0m\u001b[0;32m      6\u001b[0m \u001b[1;33m\u001b[0m\u001b[0m\n\u001b[0;32m      7\u001b[0m \u001b[1;31m# functions\u001b[0m\u001b[1;33m\u001b[0m\u001b[1;33m\u001b[0m\u001b[0m\n",
        "\u001b[1;32m/cvmfs/cms.cern.ch/slc6_amd64_gcc472/cms/cmssw-patch/CMSSW_5_3_15_patch1/python/DataFormats/FWLite/__init__.pyc\u001b[0m in \u001b[0;36m__init__\u001b[1;34m(self, inputFiles, **kwargs)\u001b[0m\n\u001b[0;32m    485\u001b[0m             \u001b[1;32mraise\u001b[0m \u001b[0mRuntimeError\u001b[0m\u001b[1;33m,\u001b[0m \u001b[1;34m\"Unknown arguments %s\"\u001b[0m \u001b[1;33m%\u001b[0m \u001b[0mkwargs\u001b[0m\u001b[1;33m\u001b[0m\u001b[0m\n\u001b[0;32m    486\u001b[0m         \u001b[1;32mif\u001b[0m \u001b[1;32mnot\u001b[0m \u001b[0mself\u001b[0m\u001b[1;33m.\u001b[0m\u001b[0m_filenames\u001b[0m\u001b[1;33m:\u001b[0m\u001b[1;33m\u001b[0m\u001b[0m\n\u001b[1;32m--> 487\u001b[1;33m             \u001b[1;32mraise\u001b[0m \u001b[0mRuntimeError\u001b[0m\u001b[1;33m,\u001b[0m \u001b[1;34m\"No input files given\"\u001b[0m\u001b[1;33m\u001b[0m\u001b[0m\n\u001b[0m\u001b[0;32m    488\u001b[0m \u001b[1;33m\u001b[0m\u001b[0m\n\u001b[0;32m    489\u001b[0m \u001b[1;33m\u001b[0m\u001b[0m\n",
        "\u001b[1;31mRuntimeError\u001b[0m: No input files given"
       ]
      }
     ],
     "prompt_number": 16
    },
    {
     "cell_type": "markdown",
     "metadata": {},
     "source": [
      "### histograms"
     ]
    },
    {
     "cell_type": "code",
     "collapsed": false,
     "input": [
      "from varial import diskio\n",
      "fs = diskio.fileservice()\n",
      "\n",
      "# all events\n",
      "fs.NumFinalBs = ROOT.TH1D(\n",
      "    \"NumFinalBs\",\n",
      "    \";number of final B's;number of events\",\n",
      "    8, -.5, 7.5\n",
      ")\n",
      "fs.NumIvfVertices = ROOT.TH1D(\n",
      "    \"NumIvfVertices\",\n",
      "    \";number of IVF vertices;number of events\",\n",
      "    8, -.5, 7.5\n",
      ")\n",
      "\n",
      "# with n_ivf == 2, no / one / two matched\n",
      "fs.VertexDR = ROOT.TH1D(\n",
      "    \"VertexDR\",\n",
      "    \";#Delta R;number of vertices\",\n",
      "    100, 0., 5.\n",
      ")\n",
      "fs.VertexDRNoMatch = ROOT.TH1D(\n",
      "    \"VertexDRNoMatch\",\n",
      "    \";#Delta R;number of vertices\",\n",
      "    100, 0., 5.\n",
      ")\n",
      "fs.VertexDROneMatch = ROOT.TH1D(\n",
      "    \"VertexDROneMatch\",\n",
      "    \";#Delta R;number of vertices\",\n",
      "    100, 0., 5.\n",
      ")\n",
      "fs.VertexDRTwoMatch = ROOT.TH1D(\n",
      "    \"VertexDRTwoMatch\",\n",
      "    \";#Delta R;number of vertices\",\n",
      "    100, 0., 5.\n",
      ")"
     ],
     "language": "python",
     "metadata": {},
     "outputs": [],
     "prompt_number": 17
    },
    {
     "cell_type": "markdown",
     "metadata": {},
     "source": [
      "### eventloop"
     ]
    },
    {
     "cell_type": "code",
     "collapsed": false,
     "input": [
      "vtx_dr_histos = [fs.VertexDRNoMatch, fs.VertexDROneMatch, fs.VertexDRTwoMatch]\n",
      "\n",
      "for event in events:\n",
      "\n",
      "    # final B hadron generator particles\n",
      "    event.getByLabel(\"genParticles\", h_genParticles)\n",
      "    genParticles = h_genParticles.product()\n",
      "    fin_bs = final_b_mesons(genParticles)\n",
      "\n",
      "    # ivf vertices\n",
      "\n",
      "    event.getByLabel(\"goodOfflinePrimaryVertices\", h_pv)\n",
      "    event.getByLabel(\"inclusiveMergedVertices\", h_ivf)\n",
      "    flightdirs = get_all_flight_dirs(h_ivf.product(), h_pv.product()[0])\n",
      "    matched_fds = get_matched_flightdirs(flightdirs, fin_bs)\n",
      "    \n",
      "    # fill histos for all events\n",
      "    fs.NumFinalBs.Fill(len(fin_bs))\n",
      "    fs.NumIvfVertices.Fill(len(flightdirs))\n",
      "    \n",
      "    # fill histos for n_matched == 2\n",
      "    if len(flightdirs) == 2:\n",
      "        flightdir_dR = my_deltaR(*flightdirs)\n",
      "        fs.VertexDR.Fill(flightdir_dR)\n",
      "        vtx_dr_histos[len(matched_fds)].Fill(flightdir_dR)"
     ],
     "language": "python",
     "metadata": {},
     "outputs": [],
     "prompt_number": 18
    },
    {
     "cell_type": "markdown",
     "metadata": {},
     "source": [
      "# Plots\n",
      "### all events: N final B's and N_IVF vertices"
     ]
    },
    {
     "cell_type": "code",
     "collapsed": false,
     "input": [
      "fs.NumFinalBs"
     ],
     "language": "python",
     "metadata": {},
     "outputs": [
      {
       "metadata": {},
       "output_type": "pyout",
       "png": "[encoded data removed]",
       "prompt_number": 19,
       "text": [
        "<ROOT.TH1D object (\"NumFinalBs\") at 0xa7d0350>"
       ]
      }
     ],
     "prompt_number": 19
    },
    {
     "cell_type": "code",
     "collapsed": false,
     "input": [
      "fs.NumIvfVertices"
     ],
     "language": "python",
     "metadata": {},
     "outputs": [
      {
       "metadata": {},
       "output_type": "pyout",
       "png": "[encoded data removed]",
       "prompt_number": 20,
       "text": [
        "<ROOT.TH1D object (\"NumIvfVertices\") at 0xa7c90d0>"
       ]
      }
     ],
     "prompt_number": 20
    },
    {
     "cell_type": "markdown",
     "metadata": {},
     "source": [
      "### events with N_IVF == 2: VertexDR: all events, no/one/two match(es)"
     ]
    },
    {
     "cell_type": "code",
     "collapsed": false,
     "input": [
      "fs.VertexDR"
     ],
     "language": "python",
     "metadata": {},
     "outputs": [
      {
       "metadata": {},
       "output_type": "pyout",
       "png": "[encoded data removed]",
       "prompt_number": 21,
       "text": [
        "<ROOT.TH1D object (\"VertexDR\") at 0xa77dae0>"
       ]
      }
     ],
     "prompt_number": 21
    },
    {
     "cell_type": "code",
     "collapsed": false,
     "input": [
      "fs.VertexDRNoMatch"
     ],
     "language": "python",
     "metadata": {},
     "outputs": [
      {
       "metadata": {},
       "output_type": "pyout",
       "png": "[encoded data removed]",
       "prompt_number": 22,
       "text": [
        "<ROOT.TH1D object (\"VertexDRNoMatch\") at 0xa7c3bc0>"
       ]
      }
     ],
     "prompt_number": 22
    },
    {
     "cell_type": "code",
     "collapsed": false,
     "input": [
      "fs.VertexDROneMatch"
     ],
     "language": "python",
     "metadata": {},
     "outputs": [
      {
       "metadata": {},
       "output_type": "pyout",
       "png": "[encoded data removed]",
       "prompt_number": 23,
       "text": [
        "<ROOT.TH1D object (\"VertexDROneMatch\") at 0xd483290>"
       ]
      }
     ],
     "prompt_number": 23
    },
    {
     "cell_type": "code",
     "collapsed": false,
     "input": [
      "fs.VertexDRTwoMatch"
     ],
     "language": "python",
     "metadata": {},
     "outputs": [
      {
       "metadata": {},
       "output_type": "pyout",
       "png": "[encoded data removed]",
       "prompt_number": 24,
       "text": [
        "<ROOT.TH1D object (\"VertexDRTwoMatch\") at 0xd3aa210>"
       ]
      }
     ],
     "prompt_number": 24
    },
    {
     "cell_type": "markdown",
     "metadata": {},
     "source": [
      "# WARNING\n",
      "(true science ahead)"
     ]
    },
    {
     "cell_type": "code",
     "collapsed": false,
     "input": [
      "ev = next(events)"
     ],
     "language": "python",
     "metadata": {},
     "outputs": [],
     "prompt_number": 106
    },
    {
     "cell_type": "code",
     "collapsed": false,
     "input": [
      "h_vtx = Handle(\"vector<reco::Vertex>\")\n",
      "ev.getByLabel(\"inclusiveMergedVertices\", h_vtx)\n",
      "vtxs = h_vtx.product()"
     ],
     "language": "python",
     "metadata": {},
     "outputs": [],
     "prompt_number": 107
    },
    {
     "cell_type": "code",
     "collapsed": false,
     "input": [
      "len(vtxs)"
     ],
     "language": "python",
     "metadata": {},
     "outputs": [
      {
       "metadata": {},
       "output_type": "pyout",
       "prompt_number": 108,
       "text": [
        "2"
       ]
      }
     ],
     "prompt_number": 108
    },
    {
     "cell_type": "code",
     "collapsed": false,
     "input": [
      "vtx = vtxs[0]"
     ],
     "language": "python",
     "metadata": {},
     "outputs": [],
     "prompt_number": 48
    },
    {
     "cell_type": "code",
     "collapsed": false,
     "input": [],
     "language": "python",
     "metadata": {},
     "outputs": [],
     "prompt_number": 28
    },
    {
     "cell_type": "code",
     "collapsed": false,
     "input": [],
     "language": "python",
     "metadata": {},
     "outputs": [],
     "prompt_number": 28
    },
    {
     "cell_type": "code",
     "collapsed": false,
     "input": [
      "\n"
     ],
     "language": "python",
     "metadata": {},
     "outputs": [],
     "prompt_number": 28
    },
    {
     "cell_type": "code",
     "collapsed": false,
     "input": [],
     "language": "python",
     "metadata": {},
     "outputs": [],
     "prompt_number": 28
    },
    {
     "cell_type": "code",
     "collapsed": false,
     "input": [],
     "language": "python",
     "metadata": {},
     "outputs": []
    }
   ],
   "metadata": {}
  }
 ]
}