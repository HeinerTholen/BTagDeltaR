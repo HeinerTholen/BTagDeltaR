{
 "metadata": {
  "name": "",
  "signature": "sha256:b4c4625b9f2182d9c4f4863f82c98e4cff87a5fc32ece3f031cc887ce8f393b2"
 },
 "nbformat": 3,
 "nbformat_minor": 0,
 "worksheets": [
  {
   "cells": [
    {
     "cell_type": "code",
     "collapsed": false,
     "input": [
      "import pymc\n",
      "db = pymc.database.pickle.load(\n",
      "'ttdilep_analysis/FitChainSum/FitChainSumfrom00to10_IvfB2cMerged/TemplateFitToolData/mcmc.pickle')"
     ],
     "language": "python",
     "metadata": {},
     "outputs": [],
     "prompt_number": 1
    },
    {
     "cell_type": "code",
     "collapsed": false,
     "input": [
      "%matplotlib inline\n",
      "from IPython.core.pylabtools import figsize\n",
      "from matplotlib import pyplot as plt"
     ],
     "language": "python",
     "metadata": {},
     "outputs": [],
     "prompt_number": 2
    },
    {
     "cell_type": "code",
     "collapsed": false,
     "input": [
      "samples = db.trace('factor_00')[:]\n",
      "plt.hist(samples, bins=70, normed=True, histtype=\"stepfilled\")\n",
      "None"
     ],
     "language": "python",
     "metadata": {},
     "outputs": [
      {
       "metadata": {},
       "output_type": "display_data",
       "png": "[encoded data removed]",
       "text": [
        "<matplotlib.figure.Figure at 0x129480050>"
       ]
      }
     ],
     "prompt_number": 18
    },
    {
     "cell_type": "code",
     "collapsed": false,
     "input": [],
     "language": "python",
     "metadata": {},
     "outputs": []
    }
   ],
   "metadata": {}
  }
 ]
}