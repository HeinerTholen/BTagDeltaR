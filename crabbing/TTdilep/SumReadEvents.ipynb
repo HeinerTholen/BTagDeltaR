{
 "metadata": {
  "name": ""
 },
 "nbformat": 3,
 "nbformat_minor": 0,
 "worksheets": [
  {
   "cells": [
    {
     "cell_type": "code",
     "collapsed": false,
     "input": [
      "import glob\n",
      "import itertools\n",
      "import pyparsing as pp"
     ],
     "language": "python",
     "metadata": {},
     "outputs": [],
     "prompt_number": 1
    },
    {
     "cell_type": "code",
     "collapsed": false,
     "input": [
      "def gen_cat(f):\n",
      "    with open(f) as fh:\n",
      "        for line in fh.readlines():\n",
      "            yield line\n",
      "job_logs_strs = glob.glob(\"crab_0_140506_124239/res/CMSSW_*.stdout\")\n",
      "log_lines = itertools.chain.from_iterable(gen_cat(f) for f in job_logs_strs)"
     ],
     "language": "python",
     "metadata": {},
     "outputs": [],
     "prompt_number": 2
    },
    {
     "cell_type": "code",
     "collapsed": false,
     "input": [
      "parse_block = pp.Optional(pp.Suppress(\"TrigReport Events total =\") \n",
      "                     + pp.Word(pp.nums).setParseAction(lambda t: int(t[0])) \n",
      "                     + pp.Suppress(\"passed =\"))\n",
      "parser = lambda s: parse_block.parseString(s).asList() or [0]"
     ],
     "language": "python",
     "metadata": {},
     "outputs": [],
     "prompt_number": 3
    },
    {
     "cell_type": "code",
     "collapsed": false,
     "input": [
      "sum_events = sum(parser(l)[0] for l in log_lines)\n",
      "sum_events"
     ],
     "language": "python",
     "metadata": {},
     "outputs": [
      {
       "metadata": {},
       "output_type": "pyout",
       "prompt_number": 4,
       "text": [
        "11995550"
       ]
      }
     ],
     "prompt_number": 4
    },
    {
     "cell_type": "code",
     "collapsed": false,
     "input": [],
     "language": "python",
     "metadata": {},
     "outputs": [],
     "prompt_number": 53
    },
    {
     "cell_type": "code",
     "collapsed": false,
     "input": [],
     "language": "python",
     "metadata": {},
     "outputs": [],
     "prompt_number": 48
    },
    {
     "cell_type": "code",
     "collapsed": false,
     "input": [],
     "language": "python",
     "metadata": {},
     "outputs": []
    }
   ],
   "metadata": {}
  }
 ]
}