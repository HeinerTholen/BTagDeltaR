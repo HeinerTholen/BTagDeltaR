{
 "metadata": {
  "name": ""
 },
 "nbformat": 3,
 "nbformat_minor": 0,
 "worksheets": [
  {
   "cells": [
    {
     "cell_type": "code",
     "collapsed": false,
     "input": [
      "import glob\n",
      "import itertools\n",
      "import pyparsing as pp"
     ],
     "language": "python",
     "metadata": {},
     "outputs": [],
     "prompt_number": 1
    },
    {
     "cell_type": "code",
     "collapsed": false,
     "input": [
      "def gen_cat(f):\n",
      "    with open(f) as fh:\n",
      "        for line in fh.readlines():\n",
      "            yield line\n",
      "            \n",
      "def gen_num_events(job_logs):\n",
      "    log_lines = itertools.chain.from_iterable(gen_cat(f) for f in job_logs)\n",
      "    parse_block = pp.Optional(pp.Suppress(\"TrigReport Events total =\") \n",
      "                         + pp.Word(pp.nums).setParseAction(lambda t: int(t[0])) \n",
      "                         + pp.Suppress(\"passed =\"))\n",
      "    parser = lambda s: parse_block.parseString(s).asList() or [0]\n",
      "    return sum(parser(l)[0] for l in log_lines)\n"
     ],
     "language": "python",
     "metadata": {},
     "outputs": [],
     "prompt_number": 5
    },
    {
     "cell_type": "code",
     "collapsed": false,
     "input": [
      "job_logs = glob.glob(\"*/res/CMSSW_*.stdout\")\n",
      "for key, group in itertools.groupby(job_logs, lambda s: s.split(\"/\")[0]):\n",
      "    print key, \":\", gen_num_events(group)"
     ],
     "language": "python",
     "metadata": {},
     "outputs": [
      {
       "output_type": "stream",
       "stream": "stdout",
       "text": [
        "SingleTbarW : "
       ]
      },
      {
       "output_type": "stream",
       "stream": "stdout",
       "text": [
        "493460\n",
        "ZJets50plus : "
       ]
      },
      {
       "output_type": "stream",
       "stream": "stdout",
       "text": [
        "30458871\n",
        "SingleTW : "
       ]
      },
      {
       "output_type": "stream",
       "stream": "stdout",
       "text": [
        "497658\n",
        "ZJets10to50 : "
       ]
      },
      {
       "output_type": "stream",
       "stream": "stdout",
       "text": [
        "37835275\n",
        "DiBosonWZ : "
       ]
      },
      {
       "output_type": "stream",
       "stream": "stdout",
       "text": [
        "10000283\n",
        "DiBosonWW : "
       ]
      },
      {
       "output_type": "stream",
       "stream": "stdout",
       "text": [
        "10000431\n",
        "DiBosonZZ : "
       ]
      },
      {
       "output_type": "stream",
       "stream": "stdout",
       "text": [
        "9752010\n",
        "WJets : "
       ]
      },
      {
       "output_type": "stream",
       "stream": "stdout",
       "text": [
        "57709905\n",
        "TTbar : "
       ]
      },
      {
       "output_type": "stream",
       "stream": "stdout",
       "text": [
        "12116717\n"
       ]
      }
     ],
     "prompt_number": 6
    },
    {
     "cell_type": "code",
     "collapsed": false,
     "input": [],
     "language": "python",
     "metadata": {},
     "outputs": [],
     "prompt_number": 3
    },
    {
     "cell_type": "code",
     "collapsed": false,
     "input": [],
     "language": "python",
     "metadata": {},
     "outputs": [],
     "prompt_number": 53
    },
    {
     "cell_type": "code",
     "collapsed": false,
     "input": [],
     "language": "python",
     "metadata": {},
     "outputs": [],
     "prompt_number": 48
    },
    {
     "cell_type": "code",
     "collapsed": false,
     "input": [],
     "language": "python",
     "metadata": {},
     "outputs": []
    }
   ],
   "metadata": {}
  }
 ]
}